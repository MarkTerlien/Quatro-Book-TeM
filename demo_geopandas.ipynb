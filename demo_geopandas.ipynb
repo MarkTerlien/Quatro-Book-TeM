{
 "cells": [
  {
   "cell_type": "raw",
   "metadata": {},
   "source": [
    "---\n",
    "title:  Demo geopandas\n",
    "author: Mark Terlien\n",
    "date: \"December 12nd, 2022\"\n",
    "format: \n",
    "  html:\n",
    "    cold-fold: true\n",
    "---"
   ]
  },
  {
   "cell_type": "markdown",
   "metadata": {},
   "source": [
    "## De module `GeoPandas`\n",
    "\n",
    "[GeoPandas](https://geopandas.org/en/stable/) is een open source-project om het werken met ruimtelijke gegevens in python gemakkelijker te maken. GeoPandas breidt de datatypes uit die door pandas worden gebruikt om ruimtelijke bewerkingen op geometrische types mogelijk te maken. Geometrische bewerkingen worden uitgevoerd door [shapely](https://shapely.readthedocs.io/en/stable/index.html). GeoPandas is verder afhankelijk van [fiona](https://pypi.org/project/Fiona/) voor bestandstoegang en [matplotlib](https://matplotlib.org/) voor plotten.\n",
    "\n",
    "[Hier](https://geopandas.org/getting_started/introduction.html) vind je een uitgebreide GeoPandas introductie en voorbeeldscripts.\n",
    "\n",
    "Om het GeoPandas te kunnen werken, beginnen we met het importeren van de noodzakelijke modules."
   ]
  },
  {
   "cell_type": "code",
   "execution_count": null,
   "metadata": {},
   "outputs": [],
   "source": [
    "# Import modules\n",
    "# LET OP: \n",
    "# Installeer eerst Fiona en RTREE van https://www.lfd.uci.edu/~gohlke/pythonlibs/\n",
    "# Dan geopandas installeren\n",
    "import os\n",
    "import pandas as pd\n",
    "import geopandas as gpd\n",
    "import numpy as np\n",
    "import matplotlib.pyplot as plt\n",
    "\n",
    "# Set current dir as working dir\n",
    "\n",
    "os.chdir(os.getcwd())\n",
    "print('Working directory is ' + str(os.getcwd()))"
   ]
  },
  {
   "cell_type": "markdown",
   "metadata": {},
   "source": [
    "In dit voorbeeld gaan we achtereenvolgens:\n",
    "- Een csv-bestand *world_earthquakes.csv* met de locatie en magnitude van aardbevingen inlezen\n",
    "- De aardbevingen plotten op een wereldkaart\n",
    "- Via een spatial join alleen de aardbevingen selecteren die op land hebben plaatsgevonden\n",
    "- Resultaat opslaan in Geojson file\n",
    "\n",
    "We beginnen met het inlezen van het csv-bestand waarbij alle rijen die geen coördinaten en/of magnitude hebben (kolommen *latitude* en/of *longitude* en/of *eq_primary* zijn leeg) niet ingelezen worden."
   ]
  },
  {
   "cell_type": "code",
   "execution_count": null,
   "metadata": {},
   "outputs": [],
   "source": [
    "# Import world earthquales csv into dataframe and drop rows without latitude and longitude\n",
    "df = pd.read_csv('data_files/world_earthquakes.csv',sep=',').dropna(subset=[\"LATITUDE\", \"LONGITUDE\",\"EQ_PRIMARY\"])\n",
    "\n",
    "# Printing column names (when first row is not skipped and first 5 rows)\n",
    "print(df.columns.values)\n",
    "print(df[['COUNTRY', 'EQ_PRIMARY','LATITUDE', 'LONGITUDE']].head(5))"
   ]
  },
  {
   "cell_type": "markdown",
   "metadata": {},
   "source": [
    "In de volgende stap maken we een geodataframe van het dataframe met het csv-bestand. Er wordt een extra kolom aan het dataframe toegoevoegd waarin de coördinaat van de aardbeving opgeslagen wordt. Deze coördinaat wordt gemaakt op basis van de x-waarde in de kolom *longitude* en de y-waarde in de kolom *latitude* met de functie [points_from_xy](https://geopandas.org/en/stable/docs/reference/api/geopandas.points_from_xy.html). Bij de parameter *crs* moet het coördinaatsysteem van de coördinaten opgegeven worden. In dit geval [WGS84](https://epsg.io/4326) met EPSG:4326."
   ]
  },
  {
   "cell_type": "code",
   "execution_count": null,
   "metadata": {},
   "outputs": [],
   "source": [
    "# Make geodata frame\n",
    "gdf_earthquakes = gpd.GeoDataFrame(df, geometry=gpd.points_from_xy(df['LONGITUDE'],df['LATITUDE']),crs='EPSG:4326')\n",
    "\n",
    "# Print first 5 geometries (as WKT)\n",
    "print(gdf_earthquakes['geometry'].head(5))"
   ]
  },
  {
   "cell_type": "markdown",
   "metadata": {},
   "source": [
    "Om te controleren of de aardbevingen goed ingeladen zijn, gaan we deze plotten op een wereldkaart. We gebruiken de dataset *naturalearth_lowres* als achtergrondkaart. De kaart wordt meegeleverd met de installatie van GeoPandas."
   ]
  },
  {
   "cell_type": "code",
   "execution_count": null,
   "metadata": {},
   "outputs": [],
   "source": [
    "# Import world map\n",
    "print('Use ' + str(gpd.datasets.get_path(\"naturalearth_lowres\")) + ' as world map')\n",
    "world = gpd.read_file(gpd.datasets.get_path('naturalearth_lowres'))\n",
    "\n",
    "# Set color and edgecolor\n",
    "ax = world.plot(color='white', edgecolor='black')\n",
    "\n",
    "# We can now plot our GeoDataFrame with earthquakes in red\n",
    "gdf_earthquakes.plot(ax=ax, color='red')\n",
    "\n",
    "# Show map\n",
    "plt.show()"
   ]
  },
  {
   "cell_type": "markdown",
   "metadata": {},
   "source": [
    "We willen gaan tellen hoeveel aardbeving op land hebben plaatsgevonden. We gaan dit doen door middel van een spatial query waarbij we alleen de aardbevingen selecteren die binnen een grenzen (polygoon) van een land vallen. We beginnen met het importeren van de dataset *UIA_World_Countries_Boundaries.shp* voor de polygonen van de landen en printen ter controle de kolommen en de eerste polygoon."
   ]
  },
  {
   "cell_type": "code",
   "execution_count": null,
   "metadata": {},
   "outputs": [],
   "source": [
    "# Import world shapefile\n",
    "gdf_countries = gpd.read_file(\"data_files/UIA_World_Countries_Boundaries.shp\")\n",
    "print(gdf_countries.columns.values)\n",
    "print(gdf_countries['geometry'].head(1))"
   ]
  },
  {
   "cell_type": "markdown",
   "metadata": {},
   "source": [
    "Nu kunnen we de spatial join uitvoeren. Check hiervoor eerst of beide datasets dezelfde coördinaatsystemen hebben. Als dit niet het geval is moet je de functie [to_crs](https://geopandas.org/en/stable/docs/reference/api/geopandas.GeoDataFrame.to_crs.html) gebruiken om te zorgen dat beide geodataframes hetzelfde coördinaatsysteem hebben. \n",
    "\n",
    "Daarna voeren we de spatial join uit met de functie [sjoin](https://geopandas.org/en/stable/docs/reference/api/geopandas.sjoin.html). We voeren een inner join uit zodat alleen de rijen overblijven met aardbevingen die binnen een landpolygoon vallen. Als laatste worden het totaal aantal aardbevingen in het geodataframe en het aantal aardbevingen op land geprint."
   ]
  },
  {
   "cell_type": "code",
   "execution_count": null,
   "metadata": {},
   "outputs": [],
   "source": [
    "# Check coördinate systems\n",
    "print('Coordinate system earthquakes: ' + str(gdf_earthquakes.crs))\n",
    "print('Coordinate system countries: ' + str(gdf_countries.crs))\n",
    "\n",
    "# Spatial join\n",
    "if gdf_earthquakes.crs == gdf_countries.crs:\n",
    "    join_inner_df = gpd.sjoin(gdf_earthquakes, gdf_countries, how='inner')\n",
    "else:\n",
    "    print('Different coordinate systems, cannot perform spatial join')\n",
    "\n",
    "# Print results\n",
    "print('Total number of earthquakes: ' + str(len(gdf_earthquakes)))\n",
    "print('Total number of earthquakes on land: ' + str(len(join_inner_df)))"
   ]
  },
  {
   "cell_type": "markdown",
   "metadata": {},
   "source": [
    "We willen alleen de kolommen *COUNTRY*, *LOCATION_NAME*, *EQ_PRIMARY* en *geometry* opslaan in een Geojson. Ook de rijen zonder magnitude willen we niet meenemen."
   ]
  },
  {
   "cell_type": "code",
   "execution_count": null,
   "metadata": {},
   "outputs": [],
   "source": [
    "# Make new dataframe with 4 columns only (select columns)\n",
    "gdf_new = join_inner_df[['COUNTRY', 'LOCATION_NAME', 'EQ_PRIMARY','geometry']]\n",
    "\n",
    "# Select only rows with magnitude\n",
    "gdf_cleaned = gdf_new[gdf_new['EQ_PRIMARY'].notna()]\n",
    "print(gdf_cleaned.head(5))\n",
    "\n",
    "# Export to geojson\n",
    "gdf_new.to_file(\"data_files/world_earthquakes.json\", driver=\"GeoJSON\")"
   ]
  }
 ],
 "metadata": {
  "kernelspec": {
   "display_name": "Python 3",
   "language": "python",
   "name": "python3"
  },
  "language_info": {
   "codemirror_mode": {
    "name": "ipython",
    "version": 3
   },
   "file_extension": ".py",
   "mimetype": "text/x-python",
   "name": "python",
   "nbconvert_exporter": "python",
   "pygments_lexer": "ipython3",
   "version": "3.11.0"
  },
  "orig_nbformat": 4,
  "vscode": {
   "interpreter": {
    "hash": "6090159f195111259c09d95d79fb1f2622e138688553073b14c580eb658dcffb"
   }
  }
 },
 "nbformat": 4,
 "nbformat_minor": 2
}

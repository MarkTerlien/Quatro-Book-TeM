{
 "cells": [
  {
   "cell_type": "raw",
   "metadata": {},
   "source": [
    "---\n",
    "title:  Supervised landuse classification\n",
    "author: Mark Terlien\n",
    "date: \"December 2nd, 2022\"\n",
    "format: \n",
    "  html:\n",
    "    cold-fold: true\n",
    "---"
   ]
  },
  {
   "attachments": {},
   "cell_type": "markdown",
   "metadata": {},
   "source": [
    "# Landuse classification with Sentinel2 satellite images using deep learning\n",
    "\n",
    "## Introduction\n",
    "In this execise we will make a landuse classification using satellite images of the bands Blue (02), Green (B03), Red (B04 and Infrared (B08) with a resolution of 10 meter of the [Sentinel-2 satellite](sentinel.esa.int/web/sentinel/missions/sentinel-2). \n",
    "\n",
    "If you are not familiar with satellite remote sensing, you can find an introduction [here](https://semiautomaticclassificationmanual-v5.readthedocs.io/de/latest/remote_sensing.html).\n",
    "\n",
    "We will be using a [deep learning algorithm](https://machinelearningmastery.com/tutorial-first-neural-network-python-keras/) The deep learning algorithm is provided by the `Keras` library. `Keras` is a powerful and easy-to-use free open source Python library for developing and evaluating deep learning models.\n",
    "\n",
    "It is part of the TensorFlow library and allows you to define and train neural network models in just a few lines of code.\n",
    "In this tutorial, you will discover how to create your first deep learning neural network model in Python using Keras.\n",
    "\n",
    "An excellent introduction on deep learning and neural networks can be found [here](https://www.doc.ic.ac.uk/~nuric/teaching/imperial-college-machine-learning-neural-networks.html)."
   ]
  },
  {
   "cell_type": "code",
   "execution_count": 1,
   "metadata": {},
   "outputs": [
    {
     "name": "stdout",
     "output_type": "stream",
     "text": [
      "tensorflow: 2.12.0\n",
      "keras: 2.12.0\n"
     ]
    }
   ],
   "source": [
    "\n",
    "# tensorflow\n",
    "import tensorflow\n",
    "print('tensorflow: %s' % tensorflow.__version__)\n",
    "\n",
    "# keras\n",
    "import keras\n",
    "from keras.models import Sequential\n",
    "from keras.layers import Dense\n",
    "print('keras: %s' % keras.__version__)\n",
    "\n",
    "# pandas\n",
    "import pandas as pd\n",
    "\n"
   ]
  },
  {
   "attachments": {},
   "cell_type": "markdown",
   "metadata": {},
   "source": [
    "Load data"
   ]
  },
  {
   "cell_type": "code",
   "execution_count": 28,
   "metadata": {},
   "outputs": [
    {
     "name": "stdout",
     "output_type": "stream",
     "text": [
      "[[ 0]\n",
      " [ 0]\n",
      " [ 0]\n",
      " ...\n",
      " [10]\n",
      " [10]\n",
      " [10]]\n"
     ]
    }
   ],
   "source": [
    "# https://machinelearningmastery.com/tutorial-first-neural-network-python-keras/\n",
    "\n",
    "# Mapping of landuse to number\n",
    "landuse_classes = {}\n",
    "landuse_classes[' waterloop'] = 0\n",
    "landuse_classes[' dodenakker'] = 1\n",
    "landuse_classes[' zand'] = 2\n",
    "landuse_classes[' spoorbaanlichaam'] = 3\n",
    "landuse_classes[' Kassengebied'] = 4\n",
    "landuse_classes[' heide'] = 5\n",
    "landuse_classes[' overig'] = 6\n",
    "landuse_classes[' akkerland'] = 7\n",
    "landuse_classes[' bos: gemengd bos'] = 8\n",
    "landuse_classes[' bebouwd gebied'] = 9\n",
    "landuse_classes[' grasland'] = 10\n",
    "\n",
    "# Landuses to select\n",
    "selected_landuses = [0,1,2,3,8,9,10]\n",
    "\n",
    "# Load the dataset\n",
    "df_in = pd.read_csv('data_files\\landuse_classification.csv')\n",
    "\n",
    "# Remap the values of the dataframe\n",
    "df_in[\"Gewas\"] = df_in[\"Gewas\"].apply(lambda x: landuse_classes.get(x))\n",
    "\n",
    "# Convert to numeric\n",
    "df_in[\"Gewas\"] = pd.to_numeric(df_in[\"Gewas\"])\n",
    "\n",
    "# Select landuse classes\n",
    "#df = df_in[df_in[\"Gewas\"].isin(selected_landuses)]\n",
    "df = df_in[df_in[\"Gewas\"].isin(selected_landuses)]\n",
    "\n",
    "# Convert to Numpy arrays\n",
    "X = df[['B02','B03','B04','B08']].to_numpy()\n",
    "y = df[['Gewas']].to_numpy()\n",
    "print(y)\n"
   ]
  },
  {
   "attachments": {},
   "cell_type": "markdown",
   "metadata": {},
   "source": [
    "# Define the Keras Model\n",
    "\n",
    "We create a Sequential model and add layers one at a time until we are happy with our network architecture.\n",
    "\n",
    "The first thing to get right is to ensure the input layer has the correct number of input features. This can be specified when creating the first layer with the input_shape argument and setting it to (4,) for presenting the eight input variables as a vector.\n",
    "\n",
    "How do we know the number of layers and their types?\n",
    "\n",
    "This is a tricky question. There are heuristics that you can use, and often the best network structure is found through a process of trial and error experimentation (I explain more about this here). Generally, you need a network large enough to capture the structure of the problem.\n",
    "\n",
    "In this example, let’s use a fully-connected network structure with three layers.\n",
    "\n",
    "Fully connected layers are defined using the Dense class. You can specify the number of neurons or nodes in the layer as the first argument and the activation function using the activation argument.\n",
    "\n",
    "Also, you will use the rectified linear unit activation function referred to as ReLU on the first two layers and the Sigmoid function in the output layer.\n",
    "\n",
    "It used to be the case that Sigmoid and Tanh activation functions were preferred for all layers. These days, better performance is achieved using the ReLU activation function. Using a sigmoid on the output layer ensures your network output is between 0 and 1 and is easy to map to either a probability of class 1 or snap to a hard classification of either class with a default threshold of 0.5.\n",
    "\n",
    "You can piece it all together by adding each layer:\n",
    "\n",
    "- The model expects rows of data with 8 variables (the input_shape=(4,) argument).\n",
    "- The first hidden layer has 8 nodes and uses the relu activation function.\n",
    "- The second hidden layer has 4 nodes and uses the relu activation function.\n",
    "- The output layer has one node and uses the sigmoid activation function."
   ]
  },
  {
   "cell_type": "code",
   "execution_count": 29,
   "metadata": {},
   "outputs": [],
   "source": [
    "# define the keras model\n",
    "model = Sequential()\n",
    "model.add(Dense(8, input_shape=(4,), activation='relu'))\n",
    "model.add(Dense(4, activation='relu'))\n",
    "model.add(Dense(1, activation='sigmoid'))"
   ]
  },
  {
   "attachments": {},
   "cell_type": "markdown",
   "metadata": {},
   "source": [
    "## Compiling the model\n",
    "\n",
    "Compiling the model uses the efficient numerical libraries under the covers (the so-called backend) such as Theano or TensorFlow. The backend automatically chooses the best way to represent the network for training and making predictions to run on your hardware, such as CPU, GPU, or even distributed.\n",
    "\n",
    "When compiling, you must specify some additional properties required when training the network. Remember training a network means finding the best set of weights to map inputs to outputs in your dataset.\n",
    "\n",
    "You must specify the loss function to use to evaluate a set of weights, the optimizer used to search through different weights for the network, and any optional metrics you want to collect and report during training.\n",
    "\n",
    "In this case, use cross entropy as the loss argument. This loss is for a binary classification problems and is defined in Keras as “binary_crossentropy“. You can learn more about choosing loss functions based on your problem [here](https://machinelearningmastery.com/how-to-choose-loss-functions-when-training-deep-learning-neural-networks/)\n",
    "\n",
    "We will define the optimizer as the efficient stochastic gradient descent algorithm [adam](https://machinelearningmastery.com/adam-optimization-algorithm-for-deep-learning/). This is a popular version of gradient descent because it automatically tunes itself and gives good results in a wide range of problems.\n",
    "\n",
    "Finally, because it is a classification problem, you will collect and report the classification accuracy defined via the metrics argument."
   ]
  },
  {
   "cell_type": "code",
   "execution_count": 30,
   "metadata": {},
   "outputs": [],
   "source": [
    "...\n",
    "# compile the keras model\n",
    "model.compile(loss='binary_crossentropy', optimizer='adam', metrics=['accuracy'])"
   ]
  },
  {
   "attachments": {},
   "cell_type": "markdown",
   "metadata": {},
   "source": [
    "## Fit the Keras model\n",
    "\n",
    "You have defined your model and compiled it to get ready for efficient computation. Now it is time to execute the model on some data. You can train or fit your model on your loaded data by calling the `fit()` function on the model.\n",
    "\n",
    "Training occurs over epochs, and each [epoch is split into batches](https://machinelearningmastery.com/difference-between-a-batch-and-an-epoch/).\n",
    "\n",
    "- Epoch: One pass through all of the rows in the training dataset\n",
    "- Batch: One or more samples considered by the model within an epoch before weights are updated\n",
    "\n",
    "One epoch comprises one or more batches, based on the chosen batch size, and the model is fit for many epochs.\n",
    "\n",
    "The training process will run for a fixed number of epochs (iterations) through the dataset that you must specify using the epochs argument. You must also set the number of dataset rows that are considered before the model weights are updated within each epoch, called the batch size, and set using the batch_size argument.\n",
    "\n",
    "This problem will run for a small number of epochs (150) and use a relatively small batch size of 10.\n",
    "\n",
    "These configurations can be chosen experimentally by trial and error. You want to train the model enough so that it learns a good (or good enough) mapping of rows of input data to the output classification. The model will always have some error, but the amount of error will level out after some point for a given model configuration. This is called model convergence"
   ]
  },
  {
   "cell_type": "code",
   "execution_count": 31,
   "metadata": {},
   "outputs": [
    {
     "name": "stdout",
     "output_type": "stream",
     "text": [
      "Epoch 1/20\n",
      "133/133 [==============================] - 1s 2ms/step - loss: -766.6290 - accuracy: 0.1883\n",
      "Epoch 2/20\n",
      "133/133 [==============================] - 0s 2ms/step - loss: -4960.7686 - accuracy: 0.1883\n",
      "Epoch 3/20\n",
      "133/133 [==============================] - 0s 2ms/step - loss: -31047.5879 - accuracy: 0.1883\n",
      "Epoch 4/20\n",
      "133/133 [==============================] - 0s 2ms/step - loss: -105711.3281 - accuracy: 0.1883\n",
      "Epoch 5/20\n",
      "133/133 [==============================] - 0s 2ms/step - loss: -248955.8125 - accuracy: 0.1883\n",
      "Epoch 6/20\n",
      "133/133 [==============================] - 0s 2ms/step - loss: -466520.9688 - accuracy: 0.1883\n",
      "Epoch 7/20\n",
      "133/133 [==============================] - 0s 2ms/step - loss: -763368.5000 - accuracy: 0.1883\n",
      "Epoch 8/20\n",
      "133/133 [==============================] - 0s 2ms/step - loss: -1147593.2500 - accuracy: 0.1883\n",
      "Epoch 9/20\n",
      "133/133 [==============================] - 0s 2ms/step - loss: -1626888.8750 - accuracy: 0.1883\n",
      "Epoch 10/20\n",
      "133/133 [==============================] - 0s 2ms/step - loss: -2203332.7500 - accuracy: 0.1883\n",
      "Epoch 11/20\n",
      "133/133 [==============================] - 0s 2ms/step - loss: -2891080.0000 - accuracy: 0.1883\n",
      "Epoch 12/20\n",
      "133/133 [==============================] - 0s 2ms/step - loss: -3689630.5000 - accuracy: 0.1883\n",
      "Epoch 13/20\n",
      "133/133 [==============================] - 0s 2ms/step - loss: -4604051.5000 - accuracy: 0.1883\n",
      "Epoch 14/20\n",
      "133/133 [==============================] - 0s 2ms/step - loss: -5639657.5000 - accuracy: 0.1883\n",
      "Epoch 15/20\n",
      "133/133 [==============================] - 0s 2ms/step - loss: -6800618.5000 - accuracy: 0.1883\n",
      "Epoch 16/20\n",
      "133/133 [==============================] - 0s 2ms/step - loss: -8088335.5000 - accuracy: 0.1883\n",
      "Epoch 17/20\n",
      "133/133 [==============================] - 0s 2ms/step - loss: -9501869.0000 - accuracy: 0.1883\n",
      "Epoch 18/20\n",
      "133/133 [==============================] - 0s 3ms/step - loss: -11046810.0000 - accuracy: 0.1883\n",
      "Epoch 19/20\n",
      "133/133 [==============================] - 0s 2ms/step - loss: -12727808.0000 - accuracy: 0.1883\n",
      "Epoch 20/20\n",
      "133/133 [==============================] - 0s 2ms/step - loss: -14549101.0000 - accuracy: 0.1883\n"
     ]
    },
    {
     "data": {
      "text/plain": [
       "<keras.callbacks.History at 0x11b58e76090>"
      ]
     },
     "execution_count": 31,
     "metadata": {},
     "output_type": "execute_result"
    }
   ],
   "source": [
    "...\n",
    "# fit the keras model on the dataset\n",
    "model.fit(X, y, epochs=20, batch_size=10)"
   ]
  },
  {
   "attachments": {},
   "cell_type": "markdown",
   "metadata": {},
   "source": [
    "## Evaluate Keras Model\n",
    "\n",
    "You have trained our neural network on the entire dataset, and you can evaluate the performance of the network on the same dataset.\n",
    "\n",
    "This will only give you an idea of how well you have modeled the dataset (e.g., train accuracy), but no idea of how well the algorithm might perform on new data. This was done for simplicity, but ideally, you could separate your data into train and test datasets for training and evaluation of your model.\n",
    "\n",
    "You can evaluate your model on your training dataset using the evaluate() function and pass it the same input and output used to train the model.\n",
    "\n",
    "This will generate a prediction for each input and output pair and collect scores, including the average loss and any metrics you have configured, such as accuracy.\n",
    "\n",
    "The `evaluate()` function will return a list with two values. The first will be the loss of the model on the dataset, and the second will be the accuracy of the model on the dataset. You are only interested in reporting the accuracy so ignore the loss value."
   ]
  },
  {
   "cell_type": "code",
   "execution_count": 6,
   "metadata": {},
   "outputs": [
    {
     "name": "stdout",
     "output_type": "stream",
     "text": [
      "17/17 [==============================] - 0s 2ms/step - loss: -142349088.0000 - accuracy: 0.0000e+00\n",
      "Accuracy: 0.00\n"
     ]
    }
   ],
   "source": [
    "# evaluate the keras model\n",
    "_, accuracy = model.evaluate(X, y)\n",
    "print('Accuracy: %.2f' % (accuracy*100))"
   ]
  }
 ],
 "metadata": {
  "kernelspec": {
   "display_name": "Python 3",
   "language": "python",
   "name": "python3"
  },
  "language_info": {
   "codemirror_mode": {
    "name": "ipython",
    "version": 3
   },
   "file_extension": ".py",
   "mimetype": "text/x-python",
   "name": "python",
   "nbconvert_exporter": "python",
   "pygments_lexer": "ipython3",
   "version": "3.11.0"
  },
  "orig_nbformat": 4
 },
 "nbformat": 4,
 "nbformat_minor": 2
}

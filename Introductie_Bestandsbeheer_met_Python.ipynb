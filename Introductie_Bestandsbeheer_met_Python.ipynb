{
  "cells": [
    {
      "cell_type": "raw",
      "metadata": {},
      "source": [
        "---\n",
        "title:  Introductie Bestandsbeheer met Python\n",
        "author: Mark Terlien\n",
        "date: \"December 2nd, 2022\"\n",
        "format: \n",
        "  html:\n",
        "    cold-fold: true\n",
        "---"
      ]
    },
    {
      "cell_type": "markdown",
      "metadata": {
        "colab_type": "text",
        "id": "g9IxMvJnVA9a"
      },
      "source": [
        "# Werken met bestanden\n",
        "\n",
        "In dit hoofdstuk wordt de volgende Python module nader uitgelegd:\n",
        "- os (voor bestandsbeheer)\n",
        "\n",
        "Deze module heb je later nodig om het proces van het berekenen van een NDVI kaart op basis van Sentinel satellietbeelden te automatiseren."
      ]
    },
    {
      "cell_type": "markdown",
      "metadata": {
        "colab_type": "text",
        "id": "4F3u0c3GVA9b"
      },
      "source": [
        "## De module `os`\n",
        "\n",
        "De module `os` maakt het mogelijk om vanuit een Python script bestandsbeheer uit te voeren. Denk hierbij aan het navigeren naar een folder, het opvragen van een lijst van bestanden in een folder, het verplaatsen van bestanden en het verwijderen van bestanden. De volledige set van funcies kan je [hier](https://docs.python.org/3/library/os.html) vinden. Voordat je functies uit de `os` module kan gebruiken moet deze geïmporteerd worden.\n",
        "\n",
        "**Let op:** In Python kan je niet de \\ (forward slash) in de pad aanduiding gebruiken zoals gebruikelijk is in Windows. Er zijn drie alternatieven: \n",
        "- forward slash (/)\n",
        "- Twee backslashes (\\\\)\n",
        "- Pad beginnen met r "
      ]
    },
    {
      "cell_type": "code",
      "execution_count": 3,
      "metadata": {
        "colab": {
          "base_uri": "https://localhost:8080/",
          "height": 51
        },
        "colab_type": "code",
        "executionInfo": {
          "elapsed": 710,
          "status": "ok",
          "timestamp": 1588171727710,
          "user": {
            "displayName": "Python Terlien",
            "photoUrl": "",
            "userId": "08285185954748187513"
          },
          "user_tz": -120
        },
        "id": "NKFZwqExVA9d",
        "outputId": "ce5d6763-f2a5-47dd-d4a0-34a4ad07588b",
        "tags": [],
        "trusted": true
      },
      "outputs": [
        {
          "name": "stdout",
          "output_type": "stream",
          "text": [
            "c:\\git_repositories\\Quatro-Book-TeM\n",
            "c:\\git_repositories\\Quatro-Book-TeM\\data_files\n"
          ]
        }
      ],
      "source": [
        "import os\n",
        "\n",
        "# Print naam van huidige folder\n",
        "folder = os.getcwd()\n",
        "print(folder)\n",
        "\n",
        "# Navigeer naar de folder data_files\n",
        "os.chdir('data_files')\n",
        "folder = os.getcwd()\n",
        "print(folder)\n"
      ]
    },
    {
      "cell_type": "markdown",
      "metadata": {
        "colab_type": "text",
        "id": "Uib0DVMDVA9j"
      },
      "source": [
        "Het is mogelijk om de inhoud van een folder op te vragen. Je krijgt dan een lijst met alle bestandsnamen en foldernamen van het type `list` terug. Met een `for` lus kan je de naam van elk bestand en elke de folder ophalen en vervolgens afdrukken. Met de functie `os.path.isfile` kan je checken het een bestand of folder is."
      ]
    },
    {
      "cell_type": "code",
      "execution_count": 4,
      "metadata": {
        "colab": {
          "base_uri": "https://localhost:8080/",
          "height": 1000
        },
        "colab_type": "code",
        "executionInfo": {
          "elapsed": 720,
          "status": "ok",
          "timestamp": 1588172632910,
          "user": {
            "displayName": "Python Terlien",
            "photoUrl": "",
            "userId": "08285185954748187513"
          },
          "user_tz": -120
        },
        "id": "LJPzF4sKVA9l",
        "outputId": "6a2a312b-1ce5-4865-882f-5ce507eea188",
        "tags": [],
        "trusted": true
      },
      "outputs": [
        {
          "name": "stdout",
          "output_type": "stream",
          "text": [
            "c:\\git_repositories\\Quatro-Book-TeM\\data_files\\T31UFT_20190824T105031_B02_10m.tif\n",
            "T31UFT_20190824T105031_B02_10m.tif\n",
            "T31UFT_20190824T105031_B02_10m\n",
            ".tif\n",
            "\n",
            "c:\\git_repositories\\Quatro-Book-TeM\\data_files\\T31UFT_20190824T105031_B03_10m.tif\n",
            "T31UFT_20190824T105031_B03_10m.tif\n",
            "T31UFT_20190824T105031_B03_10m\n",
            ".tif\n",
            "\n",
            "c:\\git_repositories\\Quatro-Book-TeM\\data_files\\T31UFT_20190824T105031_B04_10m.tif\n",
            "T31UFT_20190824T105031_B04_10m.tif\n",
            "T31UFT_20190824T105031_B04_10m\n",
            ".tif\n",
            "\n",
            "c:\\git_repositories\\Quatro-Book-TeM\\data_files\\T31UFT_20190824T105031_B08_10m.tif\n",
            "T31UFT_20190824T105031_B08_10m.tif\n",
            "T31UFT_20190824T105031_B08_10m\n",
            ".tif\n",
            "\n"
          ]
        }
      ],
      "source": [
        "import os\n",
        "\n",
        "# Toon alle bestanden in deze folder \n",
        "folder_inhoud = os.listdir()\n",
        "for bestand_of_folder in folder_inhoud :\n",
        "    \n",
        "    # Check of je een folder of bestand hebt. Als je een bestand hebt, print naam en extensie \n",
        "    if os.path.isfile(bestand_of_folder) :\n",
        "      print(os.path.abspath(bestand_of_folder))     # Volledige pad met bestandsnaam en extensie\n",
        "      print(os.path.basename(bestand_of_folder))    # Bestandsnaam met extensie\n",
        "      print(os.path.splitext(bestand_of_folder)[0]) # Bestandsnaam zonder extensie\n",
        "      print(os.path.splitext(bestand_of_folder)[1]) # Extensie\n",
        "      print('')\n",
        "  \n"
      ]
    },
    {
      "cell_type": "markdown",
      "metadata": {
        "colab_type": "text",
        "id": "5mq0TKq8VA9q"
      },
      "source": [
        "Je kan de lijst van bestanden ook gebruiken om te checken of een bestand aanwezig is in een folder. Dit zou je kunnen gebruiken om een bestand te verwijderen als het gevonden is."
      ]
    },
    {
      "cell_type": "code",
      "execution_count": 5,
      "metadata": {
        "colab": {
          "base_uri": "https://localhost:8080/",
          "height": 51
        },
        "colab_type": "code",
        "executionInfo": {
          "elapsed": 760,
          "status": "ok",
          "timestamp": 1588172688769,
          "user": {
            "displayName": "Python Terlien",
            "photoUrl": "",
            "userId": "08285185954748187513"
          },
          "user_tz": -120
        },
        "id": "54zUkU5bVA9r",
        "outputId": "29f28a07-21c4-4438-ea17-86db0195de6d",
        "trusted": true
      },
      "outputs": [
        {
          "name": "stdout",
          "output_type": "stream",
          "text": [
            "Bestand niet gevonden\n",
            "Bestand gevonden en verwijderd\n"
          ]
        }
      ],
      "source": [
        "import os\n",
        "\n",
        "# Maak lijst van bestanden\n",
        "folder_inhoud = os.listdir()\n",
        "\n",
        "# Check of bestand bestaat en verwijder indien gevonden\n",
        "bestandsnaam = 'my_file.txt'\n",
        "if bestandsnaam in folder_inhoud :\n",
        "    print('Bestand gevonden')\n",
        "else :\n",
        "    print('Bestand niet gevonden')\n",
        "\n",
        "# Maak leeg bestand\n",
        "open(bestandsnaam, 'a').close()\n",
        "\n",
        "# Maak lijst van bestanden\n",
        "folder_inhoud = os.listdir()\n",
        "\n",
        "# Check of bestand bestaat en verwijder indien gevonden\n",
        "if bestandsnaam in folder_inhoud :\n",
        "    print('Bestand gevonden en verwijderd')\n",
        "    os.remove(bestandsnaam)\n",
        "else :\n",
        "    print('Bestand niet gevonden')\n",
        "\n"
      ]
    }
  ],
  "metadata": {
    "colab": {
      "collapsed_sections": [],
      "name": "Bestandsbeheer met Python.ipynb",
      "provenance": []
    },
    "kernelspec": {
      "display_name": "Python 3.11.0 64-bit",
      "language": "python",
      "name": "python3"
    },
    "language_info": {
      "codemirror_mode": {
        "name": "ipython",
        "version": 3
      },
      "file_extension": ".py",
      "mimetype": "text/x-python",
      "name": "python",
      "nbconvert_exporter": "python",
      "pygments_lexer": "ipython3",
      "version": "3.11.0"
    },
    "vscode": {
      "interpreter": {
        "hash": "6090159f195111259c09d95d79fb1f2622e138688553073b14c580eb658dcffb"
      }
    }
  },
  "nbformat": 4,
  "nbformat_minor": 1
}

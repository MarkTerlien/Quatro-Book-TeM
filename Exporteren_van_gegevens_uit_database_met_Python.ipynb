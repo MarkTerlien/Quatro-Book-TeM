{
 "cells": [
  {
   "cell_type": "raw",
   "metadata": {},
   "source": [
    "---\n",
    "title:  Exporteren van gegevens uit database met Python\n",
    "author: Mark Terlien\n",
    "date: \"January 10nd, 2023\"\n",
    "format: \n",
    "  html:\n",
    "    cold-fold: true\n",
    "---"
   ]
  },
  {
   "attachments": {},
   "cell_type": "markdown",
   "metadata": {},
   "source": [
    "## Selecteren van data uit PostgreSQL tabel met Python script\n",
    "\n",
    "In Python kunnen SQL queries uitgevoerd worden via de module _psycopg2_. Om te controleren of de gegevens goed ingelezen zijn, gaan we in een Python script een aantal selecties uitvoeren op de tabel _meteostation_. We gaan eerst alle rijen uit de tabel _meteostation_ ophalen en printen naar het scherm. Daarna gaan we het aantal rijen in de tabel _meteostation_ tellen. \n",
    "\n",
    "Het script bestaat uit de volgende stappen:\n",
    "\n",
    "1. Inladen modules\n",
    "2. Openen database connectie\n",
    "3. Opstellen SQL statement om alle rijen te selecteren\n",
    "4. Uitvoeren SQL statement \n",
    "5. Per rij:\n",
    "   * Ophalen waardes uit rij\n",
    "   * Print waardes naar scherm\n",
    "6. Sluiten van database"
   ]
  },
  {
   "cell_type": "code",
   "execution_count": null,
   "metadata": {},
   "outputs": [],
   "source": [
    "# 1. Inladen modules\n",
    "import os       # Operating system interface\n",
    "import psycopg2 # PostgreSQL interface\n",
    "\n",
    "# 2. Openen database connectie\n",
    "conn = psycopg2.connect(\"host=localhost dbname=meteodb user=postgres password=postgres port=5432\")\n",
    "cur = conn.cursor()\n",
    "\n",
    "# 3. Opstellen SQL statement om alle rijen te selecteren\n",
    "sql_select = 'select * from meteostation'\n",
    "  \n",
    "# 4. Uitvoeren SQL statement  \n",
    "cur.execute(sql_select)\n",
    "\n",
    "# 5. Per rij\n",
    "for row in cur.fetchall() :\n",
    "\n",
    "  # Ophalen waardes uit rij\n",
    "  id = row[0]\n",
    "  hoogte = row[1]\n",
    "  naam = row[2]\n",
    "  eigenaar = row[3]\n",
    "  \n",
    "  # Print waardes naar scherm\n",
    "  print('id: ' + str(id))\n",
    "  print('hoogte: ' + str(hoogte))\n",
    "  print('naam: ' + str(naam))\n",
    "  print('eigenaar: ' + str(eigenaar))\n",
    "\n",
    "# 6: Sluiten van database\n",
    "conn.close()"
   ]
  },
  {
   "attachments": {},
   "cell_type": "markdown",
   "metadata": {},
   "source": [
    "## Exporteren tabel uit PostgreSQL naar csv-bestand\n",
    "\n",
    "Het is natuurlijk ook mogelijk om de rijen die we met Python ophalen uit de database op te slaan in een bestand. We gaan de gegevens uit de tabel _meteostation_ exporteren naar een csv-bestand waarbij de x-coördinaat en de y-coördinaat in verschillende kolommen worden opgeslagen. Om de X- en y-coördinaat uit de PostGIS geometrie te halen worden de functies [ST_X](https://postgis.net/docs/ST_X.html) en [ST_Y](https://postgis.net/docs/ST_Y.html) gebruikt. De kolomwaardes worden in het csv-bestand gescheiden door een semicolon (;). \\\\n wordt gebruikt om naar de volgende regel te gaan.\n",
    "\n",
    "Het script bestaat uit de volgende stappen:\n",
    "\n",
    "1. Inladen modules\n",
    "2. Openen database connectie\n",
    "3. Maken van nieuw csv-bestand en open voor schrijven ('w')\n",
    "4. Ophalen van rijen uit database\n",
    "5. Per rij: \n",
    "    * Kolomwaardes ophalen uit rij\n",
    "    * Regel met waardes schrijven naar csv-bestand\n",
    "6. Sluiten csv-bestand\n",
    "7. Sluiten van database"
   ]
  },
  {
   "cell_type": "code",
   "execution_count": null,
   "metadata": {},
   "outputs": [],
   "source": [
    "# 1. Inladen modules\n",
    "import os       # Operating system interface\n",
    "import psycopg2 # PostgreSQL interface\n",
    "\n",
    "# 2. Openen database connectie\n",
    "conn = psycopg2.connect(\"dbname=meteo user=postgres password=postgres\")\n",
    "cur = conn.cursor()\n",
    "\n",
    "# 3: Maken van nieuw csv-bestand en open voor schrijven ('w')\n",
    "csv_file = open('meteo_stations_from_database.csv','w')\n",
    "\n",
    "# 4. Ophalen van rijen uit database\n",
    "sql = 'select id, hoogte, naam, ST_X(geom), ST_Y(geom) from meteostation'\n",
    "cur.execute(sql)\n",
    "rows = cur.fetchall()\n",
    "\n",
    "# 5. Per rij:  \n",
    "for row in rows :\n",
    "\n",
    "    # Kolomwaardes ophalen uit rij\n",
    "    id = str(row[0])\n",
    "    hoogte = str(row[1])\n",
    "    naam = str(row[2])\n",
    "    x = str(row[3])\n",
    "    y = str(row[4])\n",
    "\n",
    "    # Regel met waardes schrijven naar csv-bestand\n",
    "    csv_file.write(id + ';'+ hoogte + ';' + naam + ';' + x + ';' + y + '\\n')\n",
    "\n",
    "# 6: Sluiten csv-bestand\n",
    "csv_file.close()\n",
    "\n",
    "# 7. Sluiten van database\n",
    "conn.close()"
   ]
  },
  {
   "attachments": {},
   "cell_type": "markdown",
   "metadata": {},
   "source": [
    "## Exporteren tabel uit PostgreSQL naar csv-bestand via pandas\n",
    "\n",
    "Het is ook mogelijk de gegevens uit de tabel _meteostation_ exporteren naar een csv-bestand met behulp van de _pandas_ module. Ook in dit geval worden de x-coördinaat en de y-coördinaat in verschillende kolommen  opgeslagen. Om de X- en y-coördinaat uit de PostGIS geometrie te halen worden de functies [ST_X](https://postgis.net/docs/ST_X.html) en [ST_Y](https://postgis.net/docs/ST_Y.html) gebruikt. De kolomwaardes worden in het csv-bestand gescheiden door een semicolon (;). \n",
    "\n",
    "Het script bestaat uit de volgende stappen:\n",
    "\n",
    "1. Inladen modules\n",
    "2. Openen database connectie\n",
    "3. Opstellen van SQL query\n",
    "4. Selecteer rijen uit database in dataframe\n",
    "5. Schrijf datframe naar csv-bestand\n",
    "6. Sluiten database\n"
   ]
  },
  {
   "cell_type": "code",
   "execution_count": 1,
   "metadata": {},
   "outputs": [
    {
     "name": "stderr",
     "output_type": "stream",
     "text": [
      "c:\\Software\\Python311\\Lib\\site-packages\\pandas\\io\\sql.py:761: UserWarning: pandas only support SQLAlchemy connectable(engine/connection) ordatabase string URI or sqlite3 DBAPI2 connectionother DBAPI2 objects are not tested, please consider using SQLAlchemy\n",
      "  warnings.warn(\n"
     ]
    }
   ],
   "source": [
    "# 1. Inladen modules\n",
    "import os           # Operating system interface\n",
    "import psycopg2     # PostgreSQL interface\n",
    "import pandas.io.sql as psql # Dataframe interface\n",
    "\n",
    "# 2. Open database connectie\n",
    "conn = psycopg2.connect(\"dbname=meteo user=postgres password=postgres\")\n",
    "cur = conn.cursor()\n",
    "\n",
    "# 3. Opstellen van SQL query\n",
    "sql = 'select id, hoogte, naam, ST_X(geom), ST_Y(geom) from meteostation'\n",
    "\n",
    "# 4. Selecteer rijen uit database in dataframe\n",
    "df = psql.read_sql(sql, conn)\n",
    "\n",
    "# 5. Schrijf datframe naar csv-bestand\n",
    "df.to_csv('meteo_stations_from_database.csv',sep=';')\n",
    "\n",
    "# 6. Sluiten database\n",
    "conn.close()"
   ]
  },
  {
   "attachments": {},
   "cell_type": "markdown",
   "metadata": {},
   "source": [
    "## Uitvoeren spatial join met geopandas {#odwygOmTzXx}\n",
    "\n",
    "De Python module [_geopandas_](https://geopandas.org/) kan gebruikt worden om ruimtelijke bewerkingen uit te voeren op dataframes in Python. In het volgende script gaan we per meteostation bepalen in welke provincie het ligt. De bewerking die we gaan uitvoeren, kunnen we ook in SQL op de database doen met de volgende query:"
   ]
  },
  {
   "attachments": {},
   "cell_type": "markdown",
   "metadata": {},
   "source": [
    "```{sql, eval=F}\n",
    "SELECT meteostation.naam, provincie.naam, meteostation.geom \n",
    "FROM meteostation,\n",
    ",    province\n",
    "WHERE ST_Intersects(provincie.geom, meteostation.geom)\n",
    "\n",
    "```"
   ]
  },
  {
   "attachments": {},
   "cell_type": "markdown",
   "metadata": {},
   "source": [
    "De module _geopandas_ kan geïnstalleerd worden met *pip install geopandas*. Zorg er wel voor dat de afhankelijke modules _shapely_, _fiona_, _pyproj_ en _rtree_ geïnstalleerd zijn. De wheels met deze modules kunnen [hier](https://www.lfd.uci.edu/~gohlke/pythonlibs/) gedownload worden. Uitgebreide toelichting op installatie proces is [hier](https://geopandas.org/getting_started/install.html) te vinden. Een overzicht van de mogelijkheden van _geopandas_ is [hier](https://geopandas.org/gallery/index.html) te vinden.  \n",
    "\n",
    "Het script bestaat uit de volgende stappen:\n",
    "\n",
    "1. Inladen modules\n",
    "2. Importeren csv-bestand meteostations in dataframe\n",
    "3. Maken een geodataframe met meteostations\n",
    "4. Importeren shp-bestand provincies in geodataframe\n",
    "5. Coordinaattransformatie naar EPSG:4326\n",
    "6. Koppelen provincie aan meteostation met spatial join\n",
    "7. Selecteren de kolommen die je wilt behouden\n",
    "8. Opslaan resultaat als geopackage-bestand"
   ]
  },
  {
   "cell_type": "code",
   "execution_count": null,
   "metadata": {},
   "outputs": [],
   "source": [
    "# 1. Import modules\n",
    "import pandas as pd\n",
    "import geopandas as gpd\n",
    "import numpy as np\n",
    "\n",
    "# 2. Importeren csv-bestand meteostations in dataframe\n",
    "df_meteostations = pd.read_csv('data/meteo_stations.csv',sep=';')\n",
    "\n",
    "# 3. Maken een geodataframe met meteostations\n",
    "gdf_meteostations = gpd.GeoDataFrame(df_meteostations, geometry=gpd.points_from_xy(df_meteostations['lon'],df_meteostations['lat']),crs='EPSG:4326')\n",
    "\n",
    "# 4. Importeren shp-bestand provincies in geodataframe\n",
    "gdf_provincies = gpd.read_file(\"data/2018_provinciegrenzen_met_water.shp\")\n",
    "\n",
    "# 5. Coordinaattransformatie naar EPSG:4326\n",
    "gdf_provincies = gdf_provincies.to_crs(\"EPSG:4326\")\n",
    "\n",
    "# 6. Koppelen provincie aan meteostation met spatial join\n",
    "gdf_spatial_join = gpd.sjoin(gdf_meteostations, gdf_provincies, how='inner')\n",
    "\n",
    "# 7. Selecteren de kolommen die je wilt behouden\n",
    "gdf_resultaat = gdf_spatial_join[['meteostationid', 'name', 'geometry', 'Provincien']]\n",
    "print(gdf_resultaat)\n",
    "\n",
    "# 8. Opslaan resultaat als geopackage-bestand\n",
    "gdf_resultaat.to_file(\"deleteme.gpkg\", driver=\"GPKG\")"
   ]
  },
  {
   "attachments": {},
   "cell_type": "markdown",
   "metadata": {},
   "source": [
    "## fiona, shapely, rasterio {#kdwygOmTzXx}\n",
    "\n",
    "De module [_fiona_](https://pypi.org/project/Fiona/) is een vector API gebouwd op _GDAL_ en kan gebruikt worden voor het lezen en schrijven van GIS vectordata en maakt in tegenstelling tot het object geörienteerde _GDAL_ gebruik van files, directories, mappings en iteratoren.   \n",
    "\n",
    "De module [_rasterio_](https://rasterio.readthedocs.io/en/latest/index.html) is een raster API gebouwd op _GDAL_ en maakt het werken met raster datasets eenvoudiger en meer in de lijn met andere Python modules.\n",
    "\n",
    "De module [_shapely_](https://pypi.org/project/Shapely/) kan gebruikt worden voor het manipuleren en analyseren van geometrische objecten in het Cartesisch vlak. _shapely_ houdt geen rekening met coördinaatsystemen en dataformaten. Hiervoor moeten andere modules gebruikt worden."
   ]
  }
 ],
 "metadata": {
  "kernelspec": {
   "display_name": "Python 3",
   "language": "python",
   "name": "python3"
  },
  "language_info": {
   "codemirror_mode": {
    "name": "ipython",
    "version": 3
   },
   "file_extension": ".py",
   "mimetype": "text/x-python",
   "name": "python",
   "nbconvert_exporter": "python",
   "pygments_lexer": "ipython3",
   "version": "3.11.0 (main, Oct 24 2022, 18:26:48) [MSC v.1933 64 bit (AMD64)]"
  },
  "orig_nbformat": 4,
  "vscode": {
   "interpreter": {
    "hash": "6090159f195111259c09d95d79fb1f2622e138688553073b14c580eb658dcffb"
   }
  }
 },
 "nbformat": 4,
 "nbformat_minor": 2
}

{
 "cells": [
  {
   "cell_type": "raw",
   "metadata": {},
   "source": [
    "---\n",
    "title:  Maken van database\n",
    "author: Mark Terlien\n",
    "date: \"December 2nd, 2022\"\n",
    "format: \n",
    "  html:\n",
    "    cold-fold: true\n",
    "---"
   ]
  },
  {
   "cell_type": "markdown",
   "metadata": {},
   "source": [
    "# Maken van database\n",
    "\n",
    "## Introductie\n",
    "\n",
    "Een database is een digitaal opgeslagen gegevensbank ingericht met het oog op flexibele raadpleging en gebruik. Om met een database te kunnen werken is een Data Base Management System (DBMS) nodig. Een DBMS is de software die nodig is om databases te maken, te beheren en te gebruiken. Er zijn verschillende soorten databases. Wij werken in de komende labs met een relationele database.\n",
    "\n",
    "In een relationele database worden gegevens opgeslagen in tabellen. Een tabel bestaat uit kolommen en rijen. Rijen in een tabel worden uniek geïndentificeerd door een primary key. Tabellen kunnen aan elkaar gekoppeld door foreign key kolommen te gebruiken die verwijzen naar de primary key kolom van een andere tabel.\n",
    "\n",
    "Om met relationale databases te kunnen werken heb je een Relational Data Base Management Systeem (RDBMS) nodig. Wij werken de komende labs met het [open source RDBMS PostgreSQL](https://www.postgresql.org/). Andere veel gebruikte systemen zijn Oracle en SQLite.\n",
    "\n",
    "Je gebruikt de taal [SQL](https://nl.wikipedia.org/wiki/SQL) (Structured Query Language) om instructies te geven aan RDBMS om bepaalde taken uit te voeren. Er zijn twee soorten SQL commando's:\n",
    "\n",
    "* DDL (Data Definition Language) om databases en tabellen te maken en beheren\n",
    "* DML (Data Manipulation Language) om gegevens aan tabellen toe te voegen (insert), gegevens in tabellen bij te werken (update) en gegevens uit tabellen te verwijderen (delete).\n",
    "\n",
    "Om gegevens uit database tabellen te selecteren gebruik je [SQL queries](https://nl.wikipedia.org/wiki/Select_(SQL)). Met SQL queries selecteer je nul, één of meerdere rijen uit één of meerdere tabellen op basis van nul, één of meerdere condities. "
   ]
  },
  {
   "cell_type": "markdown",
   "metadata": {},
   "source": [
    "## Maken van een PostgreSQL database\n",
    "\n",
    "PostgreSQL is een RDBMS dat op de server draait. Het RDBMS handelt de SQL verzoeken af die binnenkomen vanaf applicaties zoals pgAdmin (voor database beheer), Geoserver (voor publiceren van geodata), QGIS (voor beheer van geodata) of Python scripts (voor maken van tabellen en bewerken van data). PostgreSQL maakt het mogelijk om met grote aantallen gebruikers gelijktijdig (concurrent) gegevens te benaderen en te bewerken. Ook is PostgreSQL goed schaalbaar. Dit betekent dat er geen limiet is aan de grootte van de gegevensverzamelingen waarmee gewerkt kan worden.\n",
    "\n",
    "Het maken van een PostgreSQL database doen we met een Python script. Het is ook mogelijk om een database te maken van programma's als [pgAdmin](https://www.pgadmin.org/). Om vanuit een Python script te kunnen communiceren met PostgreSQL heb je de module *psycopg2* nodig. Het script begint daarom met het laden van de module *psycopg2*."
   ]
  },
  {
   "cell_type": "code",
   "execution_count": 2,
   "metadata": {},
   "outputs": [],
   "source": [
    "# Basic imports\n",
    "import os\n",
    "\n",
    "# Import module for PostgreSQL\n",
    "import psycopg2\n",
    "from psycopg2.extensions import ISOLATION_LEVEL_AUTOCOMMIT, ISOLATION_LEVEL_READ_COMMITTED"
   ]
  },
  {
   "cell_type": "markdown",
   "metadata": {},
   "source": [
    "Als de module geladen is, kan je een verbinding maken met de database server. Hiervoor moet je de volgende parameters weten:\n",
    "- *host*: Server waar het PostgreSQL RDBMS draait.\n",
    "- *port*: Port op de server waar het PostgreSQL RDBMS luistert voor binnenkomende verzoeken.\n",
    "- *user*: Gebruikernaam om mee aan te loggen (_postgres_ is de standaard gebruikersnaam van de superuser).\n",
    "- *password*: Wachtwoorde van de gebruiker waarmee je aanlogt.\n",
    "\n",
    "**Let op**: Wij maken gebruik van de superuser _postgres_ zolang we werken met PostgreSQL op onze eigen laptop. Als je met PostgreSQL werkt op een productieomgeving maak je __nooit__ gebruik van de user _postgres_."
   ]
  },
  {
   "cell_type": "code",
   "execution_count": 37,
   "metadata": {},
   "outputs": [
    {
     "name": "stdout",
     "output_type": "stream",
     "text": [
      "Database connection succeeded\n"
     ]
    }
   ],
   "source": [
    "# Database connection parameters\n",
    "host = 'localhost'\n",
    "port = '5434'\n",
    "user = 'postgres'\n",
    "password = 'postgres'\n",
    "\n",
    "# Build connect string\n",
    "db_connect = \"host=\" + host + \" port=\" + port + \" user=\" + user + \" password=\" + password\n",
    "\n",
    "# Make connection with database\n",
    "conn = psycopg2.connect(db_connect)\n",
    "\n",
    "# Print success\n",
    "print('Database connection succeeded')"
   ]
  },
  {
   "cell_type": "markdown",
   "metadata": {},
   "source": [
    "## Maken van tabellen in een PostgreSQL database\n",
    "\n",
    "We gaan werken met een relationeel datamodel dat bestaat uit drie tabellen:\n",
    "\n",
    "* meteostation\n",
    "* waarneming\n",
    "* provincie\n",
    "\n",
    "Het ERD is met de primary keys (PK) en foreign keys (FK) is hieronder hier te bekijken.\n",
    "\n",
    "Om deze tabellen te kunnen maken, moeten we eerst een database creëren. We gaan een database __meteodb__ creëren voor de opslag van onze data."
   ]
  },
  {
   "cell_type": "code",
   "execution_count": 17,
   "metadata": {},
   "outputs": [
    {
     "name": "stdout",
     "output_type": "stream",
     "text": [
      "Create database meteodb\n"
     ]
    }
   ],
   "source": [
    "# Set autocommit on\n",
    "conn.set_isolation_level(ISOLATION_LEVEL_AUTOCOMMIT)\n",
    "\n",
    "# Set name of database to create\n",
    "database_name = 'meteodb'\n",
    "\n",
    "# Build sql statement to create database\n",
    "sql_stmt = 'CREATE DATABASE ' + database_name\n",
    "\n",
    "# Get a cursor to execute SQL statements\n",
    "cur = conn.cursor()\n",
    "\n",
    "# Execute statement\n",
    "print(\"Create database \" + database_name)\n",
    "cur.execute(sql_stmt)"
   ]
  },
  {
   "attachments": {},
   "cell_type": "markdown",
   "metadata": {},
   "source": [
    "We willen in de database ruimtelijke data op kunnen slaan en ruimtelijke analyses kunnen uitvoeren. Hiervoor moeten we de database uitbreiding [PostGIS](https://postgis.net/) installeren. PostGIS biedt het volgende:\n",
    "\n",
    "* Geometry datatype voor de opslag van punten, lijnen en vlakken\n",
    "* Ruimtelijke index om snel te kunnen zoeken op basis van locatie\n",
    "* Functies om ruimtelijke analyses uit te voeren (bijv. zoeken binnen een gebied of een buffer om een punt berekenen)\n",
    "\n",
    "We maken eerst connectie met de nieuwe _meteodb_ database.\n"
   ]
  },
  {
   "cell_type": "code",
   "execution_count": 5,
   "metadata": {},
   "outputs": [],
   "source": [
    "# Database connection parameters\n",
    "host = 'localhost'\n",
    "port = '5434'\n",
    "user = 'postgres'\n",
    "password = 'postgres'\n",
    "database = 'meteodb'\n",
    "\n",
    "# Build connect string\n",
    "db_connect = \"host=\" + host + \" port=\" + port + \" user=\" + user + \" password=\" + password + \" dbname=\" + database\n",
    "\n",
    "# Make connection with database\n",
    "conn = psycopg2.connect(db_connect)\n",
    "\n",
    "# Set autocommit on\n",
    "conn.set_isolation_level(ISOLATION_LEVEL_AUTOCOMMIT)"
   ]
  },
  {
   "attachments": {},
   "cell_type": "markdown",
   "metadata": {},
   "source": [
    "Nu installeren we in deze database de PostGIS extensie. De PostGIS uitbreiding is als volgt te installeren:"
   ]
  },
  {
   "cell_type": "code",
   "execution_count": 3,
   "metadata": {},
   "outputs": [
    {
     "name": "stdout",
     "output_type": "stream",
     "text": [
      "Install PostGIS extension\n"
     ]
    },
    {
     "ename": "DuplicateObject",
     "evalue": "extension \"postgis\" already exists\n",
     "output_type": "error",
     "traceback": [
      "\u001b[1;31m---------------------------------------------------------------------------\u001b[0m",
      "\u001b[1;31mDuplicateObject\u001b[0m                           Traceback (most recent call last)",
      "Cell \u001b[1;32mIn [3], line 25\u001b[0m\n\u001b[0;32m     23\u001b[0m \u001b[39m# Execute statement\u001b[39;00m\n\u001b[0;32m     24\u001b[0m \u001b[39mprint\u001b[39m(\u001b[39m\"\u001b[39m\u001b[39mInstall PostGIS extension\u001b[39m\u001b[39m\"\u001b[39m)\n\u001b[1;32m---> 25\u001b[0m cur\u001b[39m.\u001b[39;49mexecute(sql_stmt)\n",
      "\u001b[1;31mDuplicateObject\u001b[0m: extension \"postgis\" already exists\n"
     ]
    }
   ],
   "source": [
    "# Build sql statement to install PostGIS extension\n",
    "sql_stmt = 'CREATE EXTENSION POSTGIS'\n",
    "\n",
    "# Get a cursor to execute SQL statements\n",
    "cur = conn.cursor()\n",
    "\n",
    "# Execute statement\n",
    "print(\"Install PostGIS extension\")\n",
    "cur.execute(sql_stmt)"
   ]
  },
  {
   "attachments": {},
   "cell_type": "markdown",
   "metadata": {},
   "source": [
    "Het ERD van de database die we gaan maken voor de opslag van meteogegevens is hieronder gegeven:\n",
    "\n",
    "![ERD Meteodatabase](Meteo_database_ERD.PNG)\n",
    "\n",
    "De volgende stap is het creëren van de tabellen. Hiervoor maken we eerst een verbinding met de nieuwe _meteodb_ database. Uit het datamodel is af te leiden dat er een foreign key relatie bestaat tussen de tabellen _meteostation_ en _waarneming_. Elke waarnemening is gedaan op een meteostation. Daarom moeten we eerst de tabel _meteostation_ maken en daarna de tabel _waarneming_.\n",
    "\n",
    "De tabel _meteostation_ heeft de volgende kolommen. Per kolom is het datatype aangegeven:\n",
    "\n",
    "* id integer \n",
    "* hoogte real \n",
    "* naam character varying \n",
    "* eigenaar character varying \n",
    "* geom geometry(Geometry, 4326)\n",
    "\n",
    "De kolom _id_ is de primary key. Alle kolommen behalve _eigenaar_ zijn verplicht (_not null_). Bij de _geometry_ kolom is aangegeven dat alle type geometrieën opgeslagen kunnen worden (punten, lijnen en vlakken) en dat het coördinaatsysteem EPSG:4326 (WGS84) moet zijn. Op de _geom_ kolom maken we een ruimtelijke index aan om snel te kunnen zoeken.\n",
    "\n",
    "**Let op**: Gebruik geen hoofdletters of spaties in de tabel- en kolomnamen. Dit kan voor problemen zorgen.\n",
    "\n",
    "De tabel is met het volgende script te creëren:"
   ]
  },
  {
   "cell_type": "code",
   "execution_count": 46,
   "metadata": {},
   "outputs": [
    {
     "ename": "DuplicateTable",
     "evalue": "relation \"meteostation\" already exists\n",
     "output_type": "error",
     "traceback": [
      "\u001b[1;31m---------------------------------------------------------------------------\u001b[0m",
      "\u001b[1;31mDuplicateTable\u001b[0m                            Traceback (most recent call last)",
      "Cell \u001b[1;32mIn [46], line 16\u001b[0m\n\u001b[0;32m     13\u001b[0m sql_stmt \u001b[39m=\u001b[39m sql_stmt \u001b[39m+\u001b[39m \u001b[39m'\u001b[39m\u001b[39m WITH (OIDS = FALSE) TABLESPACE pg_default\u001b[39m\u001b[39m'\u001b[39m\n\u001b[0;32m     15\u001b[0m \u001b[39m# Execute statement\u001b[39;00m\n\u001b[1;32m---> 16\u001b[0m cur\u001b[39m.\u001b[39;49mexecute(sql_stmt)\n\u001b[0;32m     18\u001b[0m \u001b[39m# Build SQL statement to create spatial index\u001b[39;00m\n\u001b[0;32m     19\u001b[0m sql_stmt \u001b[39m=\u001b[39m \u001b[39m'\u001b[39m\u001b[39mCREATE INDEX meteostation_geom_ix\u001b[39m\u001b[39m'\u001b[39m\n",
      "\u001b[1;31mDuplicateTable\u001b[0m: relation \"meteostation\" already exists\n"
     ]
    }
   ],
   "source": [
    "# Get a cursor to execute SQL statements\n",
    "cur = conn.cursor()\n",
    "\n",
    "# Build SQL statement to create table\n",
    "sql_stmt = 'CREATE TABLE public.meteostation'\n",
    "sql_stmt = sql_stmt + '( id integer NOT NULL'\n",
    "sql_stmt = sql_stmt + ', hoogte real NOT NULL' \n",
    "sql_stmt = sql_stmt + ', naam character varying NOT NULL'\n",
    "sql_stmt = sql_stmt + ', eigenaar character varying' \n",
    "sql_stmt = sql_stmt + ', geom geometry(Geometry,4326) NOT NULL'\n",
    "sql_stmt = sql_stmt + ', CONSTRAINT meteostation_pkey PRIMARY KEY (id)'\n",
    "sql_stmt = sql_stmt + ')'\n",
    "sql_stmt = sql_stmt + ' WITH (OIDS = FALSE) TABLESPACE pg_default'\n",
    "\n",
    "# Execute statement\n",
    "cur.execute(sql_stmt)\n",
    "\n",
    "# Build SQL statement to create spatial index\n",
    "sql_stmt = 'CREATE INDEX meteostation_geom_ix'\n",
    "sql_stmt = sql_stmt + ' ON public.meteostation USING gist(geom)'\n",
    "sql_stmt = sql_stmt + ' TABLESPACE pg_default'\n",
    "\n",
    "# Execute statement\n",
    "cur.execute(sql_stmt)"
   ]
  },
  {
   "cell_type": "markdown",
   "metadata": {},
   "source": [
    "De tabel _waarneming_ heeft de volgende kolommen. Per kolom is het datatype aangegeven:\n",
    "\n",
    "* id integer \n",
    "* datum date\n",
    "* gemiddelde_temperatuur real\n",
    "* meteostation_id integer\n",
    "\n",
    "De kolom _id_ is de primary key. Alle kolommen zijn verplicht (_not null_). De kolom _meteostation\\_id_ is de foreign key naar de tabel _meteostation_. \n",
    "\n",
    "De tabel is met het volgende script te creëren:"
   ]
  },
  {
   "cell_type": "code",
   "execution_count": 6,
   "metadata": {},
   "outputs": [],
   "source": [
    "# Get a cursor to execute SQL statements\n",
    "cur = conn.cursor()\n",
    "\n",
    "# Build SQL statement to create table\n",
    "sql_stmt = 'CREATE TABLE public.waarneming'\n",
    "sql_stmt = sql_stmt + '( id serial NOT NULL'\n",
    "sql_stmt = sql_stmt + ', datum date NOT NULL' \n",
    "sql_stmt = sql_stmt + ', gemiddelde_temperatuur real NOT NULL'\n",
    "sql_stmt = sql_stmt + ', meteostation_id integer NOT NULL' \n",
    "sql_stmt = sql_stmt + ', CONSTRAINT waarneming_pkey PRIMARY KEY (datum, meteostation_id)'\n",
    "sql_stmt = sql_stmt + ', CONSTRAINT meteostation_id_fkey FOREIGN KEY (meteostation_id)'\n",
    "sql_stmt = sql_stmt + '  REFERENCES public.meteostation (id) MATCH SIMPLE'\n",
    "sql_stmt = sql_stmt + '  ON UPDATE NO ACTION'\n",
    "sql_stmt = sql_stmt + '  ON DELETE NO ACTION'\n",
    "sql_stmt = sql_stmt + ')'\n",
    "sql_stmt = sql_stmt + ' WITH (OIDS = FALSE) TABLESPACE pg_default'\n",
    "\n",
    "# Execute statement\n",
    "cur.execute(sql_stmt)\n",
    "\n",
    "# Build SQL statement to create FK index\n",
    "sql_stmt = 'CREATE INDEX fki_meteostation_id_fkey'\n",
    "sql_stmt = sql_stmt + ' ON public.waarneming USING btree(meteostation_id)'\n",
    "sql_stmt = sql_stmt + ' TABLESPACE pg_default'\n",
    "\n",
    "# Execute statement\n",
    "cur.execute(sql_stmt)"
   ]
  },
  {
   "cell_type": "markdown",
   "metadata": {},
   "source": [
    "De tabel _provincie_ heeft de volgende kolommen. Per kolom is het datatype aangegeven:\n",
    "\n",
    "* id integer \n",
    "* naam character varying \n",
    "* geom geometry(Geometry, 4326)\n",
    "\n",
    "De kolom _id_ is de primary key. Alle kolommen zijn verplicht (_not null_). Bij de _geometry_ kolom is aangegeven dat alle type geometrieën opgeslagen kunnen worden (punten, lijnen en vlakken) en dat het coördinaatsysteem [EPSG:4326](https://epsg.io/4326) (WGS84) moet zijn. Op de _geom_ kolom maken we een ruimtelijke index aan om snel te kunnen zoeken.\n",
    "\n",
    "De tabel is met het volgende script te creëren:"
   ]
  },
  {
   "cell_type": "code",
   "execution_count": 34,
   "metadata": {},
   "outputs": [],
   "source": [
    "# Get a cursor to execute SQL statements\n",
    "cur = conn.cursor()\n",
    "\n",
    "# Build SQL statement to create table\n",
    "sql_stmt = 'CREATE TABLE public.provincie'\n",
    "sql_stmt = sql_stmt + '( id integer NOT NULL'\n",
    "sql_stmt = sql_stmt + ', naam character varying NOT NULL'\n",
    "sql_stmt = sql_stmt + ', geom geometry(Geometry,4326) NOT NULL'\n",
    "sql_stmt = sql_stmt + ', CONSTRAINT provincie_pkey PRIMARY KEY (id)'\n",
    "sql_stmt = sql_stmt + ')'\n",
    "sql_stmt = sql_stmt + ' WITH (OIDS = FALSE) TABLESPACE pg_default'\n",
    "\n",
    "# Execute statement\n",
    "cur.execute(sql_stmt)\n",
    "\n",
    "# Build SQL statement to create spatial index\n",
    "sql_stmt = 'CREATE INDEX provincie_geom_ix'\n",
    "sql_stmt = sql_stmt + ' ON public.provincie USING gist(geom)'\n",
    "sql_stmt = sql_stmt + ' TABLESPACE pg_default'\n",
    "\n",
    "# Execute statement\n",
    "cur.execute(sql_stmt)"
   ]
  },
  {
   "cell_type": "markdown",
   "metadata": {},
   "source": [
    "**Let op**: Voor het maken van de database is _autocommit_ aangezet. Dit betekent dat elk commando direct op de database uitgevoerd wordt en niet expliciet hoeft te worden gecommit. Een nieuwe database is direct voor alle gebruikers zichtbaar. Als je DML statements gaat uitvoeren is het gebruikelijk om de autocommit uit te zetten. Dit betekent dat je alle DML statements (insert, update of delete) expliciet moet committen voordat de wijzigen in de database doorgevoerd worden en voor andere gebruikers zichtbaar zijn. Deze manier van werken maakt het mogelijk om met transacties (meerdere SQL statements achter elkaar) te werken die in zijn geheel moeten worden doorgevoerd of moeten worden teruggedraaid. \n",
    "\n",
    "Je zet de autocommit af met het volgende statement:"
   ]
  },
  {
   "cell_type": "code",
   "execution_count": 35,
   "metadata": {},
   "outputs": [],
   "source": [
    "# Set autocommit off\n",
    "conn.set_isolation_level(ISOLATION_LEVEL_READ_COMMITTED)"
   ]
  }
 ],
 "metadata": {
  "kernelspec": {
   "display_name": "Python 3.11.0 64-bit",
   "language": "python",
   "name": "python3"
  },
  "language_info": {
   "codemirror_mode": {
    "name": "ipython",
    "version": 3
   },
   "file_extension": ".py",
   "mimetype": "text/x-python",
   "name": "python",
   "nbconvert_exporter": "python",
   "pygments_lexer": "ipython3",
   "version": "3.11.0"
  },
  "orig_nbformat": 4,
  "vscode": {
   "interpreter": {
    "hash": "6090159f195111259c09d95d79fb1f2622e138688553073b14c580eb658dcffb"
   }
  }
 },
 "nbformat": 4,
 "nbformat_minor": 2
}

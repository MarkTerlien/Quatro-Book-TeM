{
 "cells": [
  {
   "cell_type": "raw",
   "metadata": {},
   "source": [
    "---\n",
    "title:  Berekenen van NDVI in Python\n",
    "author: Mark Terlien\n",
    "date: \"December 2nd, 2022\"\n",
    "format: \n",
    "  html:\n",
    "    cold-fold: true\n",
    "---"
   ]
  },
  {
   "cell_type": "markdown",
   "metadata": {},
   "source": [
    "## Berekenen van de NDVI\n",
    "\n",
    "De Normalized Difference Vegetation Index (NDVI) wordt gebruikt om een inschatting te geven van de gezondheid van de vegetatie op een bepaalde locatie. Voor de NDVI berekening heb je de reflectie in het rood en in het infrarood nodig. Deze spectrale gegevens worden ingewonnen met remote sensingvaak vanuit de ruimte met observatiesatellieten. Voor de Sentinel2 satelliet zijn dit de banden 04 (rood) en 08 (infrarood). \n",
    "\n",
    "De NDVI wordt berekend met de volgende formule uitgaande van de Sentinel2 banden voor rood en infrarood:\n",
    "\n",
    "NDVI = (B08 + B04) / (B08 - B04)\n",
    "\n",
    "De NDVI heeft een waarde tussen de +1 en -1. Hoe dichter de NDVI bij +1 ligt, hoe gezonder de vegetatie.\n",
    "\n",
    "De onderstaande functie `calculate_ndvi` berekent de NDVI. Omdat we hierbij gebruikmaken van `GDAL` moet ook deze module geïmporteerd worden."
   ]
  },
  {
   "cell_type": "code",
   "execution_count": null,
   "metadata": {},
   "outputs": [],
   "source": [
    "# Importeer noodzakelijke modules\n",
    "from osgeo import gdal\n",
    "from osgeo import gdalnumeric\n",
    "from osgeo import gdalconst\n",
    "from matplotlib import pyplot\n",
    "import os\n",
    "import numpy\n",
    "\n",
    "# Function to calculate NDVI rasterimage\n",
    "def calculate_ndvi (rasterfile_red_name, rasterfile_nir_name) :\n",
    "    \n",
    "    try:\n",
    "    \n",
    "        # Construct name of NDVI rasterfile\n",
    "        rasterfile_ndvi_name = rasterfile_red_name.replace('B04', 'NDVI')\n",
    "        \n",
    "        # Open Red band en schrijf data naar array\n",
    "        rasterfile_red = gdal.Open(rasterfile_red_name, gdalconst.GA_ReadOnly )\n",
    "        rasterband_red = rasterfile_red.GetRasterBand(1)\n",
    "        array_red      = gdalnumeric.BandReadAsArray(rasterband_red)\n",
    "        \n",
    "        # Open NIR band en schrijf data naar array\n",
    "        rasterfile_nir = gdal.Open(rasterfile_nir_name, gdalconst.GA_ReadOnly )\n",
    "        rasterband_nir = rasterfile_nir.GetRasterBand(1)\n",
    "        array_nir      = gdalnumeric.BandReadAsArray(rasterband_nir)\n",
    "        \n",
    "        # Bereken NDVI: Let op: Maak er eerst een array met floats van omdat resultaat een float is\n",
    "        array_ndvi = (array_nir.astype(float) - array_red.astype(float))/(array_nir.astype(float) + array_red.astype(float))\n",
    "        \n",
    "        # Haal driver op voor output GeoTIFF raster bestand \n",
    "        driver = gdal.GetDriverByName(\"GTiff\")\n",
    "    \n",
    "        # Haal aantal rijen en kolommen op voor output raster bestand\n",
    "        nr_of_columns = rasterfile_red.RasterXSize\n",
    "        nr_of_rows    = rasterfile_red.RasterYSize\n",
    "        \n",
    "        # Maak leeg raster bestand met datatype float32\n",
    "        rasterfile_ndvi = driver.Create(rasterfile_ndvi_name, nr_of_columns, nr_of_rows, 1, gdal.GDT_Float32)\n",
    "\n",
    "        # Kopieer geotrans en coordinaatsysteem\n",
    "        gdalnumeric.CopyDatasetInfo(rasterfile_red, rasterfile_ndvi)\n",
    "\n",
    "        # Haal band op en schrijf array naar band\n",
    "        rasterband_ndvi = rasterfile_ndvi.GetRasterBand(1)\n",
    "        gdalnumeric.BandWriteArray(rasterband_ndvi, array_ndvi)\n",
    "\n",
    "        # Sluiten van bestanden\n",
    "        array_red = None\n",
    "        rasterfile_red  = None  \n",
    "        array_nir = None\n",
    "        rasterfile_nir  = None\n",
    "        array_ndvi = None\n",
    "        rasterfile_ndvi = None\n",
    "\n",
    "        # Print name\n",
    "        print(rasterfile_ndvi_name + ' generated')\n",
    "\n",
    "        # Return name of NDVI file\n",
    "        return rasterfile_ndvi_name\n",
    "\n",
    "    except Exception as e: \n",
    "        \n",
    "        try:\n",
    "            rasterfile_red = None\n",
    "            rasterfile_nir = None\n",
    "            rasterfile_ndvi = None\n",
    "        except:\n",
    "            None\n",
    "\n",
    "        print('Error function transform_raster_image')\n",
    "        print(e)"
   ]
  },
  {
   "cell_type": "markdown",
   "metadata": {},
   "source": [
    "Nu kan de functie `calculate_ndvi` gebruikt worden om de NDVI te berekenen. De berekende NDVI kaart wordt geplot en er wordt een histogram van de NDVI waardes gemaakt."
   ]
  },
  {
   "cell_type": "code",
   "execution_count": null,
   "metadata": {},
   "outputs": [],
   "source": [
    "# Navigeer naar de \"data\" folder met de satellietbeelden\n",
    "os.chdir('data_files')\n",
    "\n",
    "# Bereken de NDVI\n",
    "file_name_B04 = \"T31UFT_20190824T105031_B04_10m.tif\"\n",
    "file_name_B08 = \"T31UFT_20190824T105031_B08_10m.tif\"\n",
    "file_name_NDVI = calculate_ndvi(file_name_B04, file_name_B08)\n",
    "print('Naam van bestand met berekende NDVI is ' + str(file_name_NDVI))\n",
    "\n",
    "# Open rasterbestand en kopieer data uit band naar array\n",
    "raster_bestand = gdal.Open(file_name_NDVI, gdalconst.GA_ReadOnly)\n",
    "rasterband     = raster_bestand.GetRasterBand(1)\n",
    "array_band     = gdalnumeric.BandReadAsArray(rasterband)\n",
    "\n",
    "# Laad array in pyplot en toon plot met colormap pink\n",
    "pyplot.figure(figsize=(20,10))\n",
    "pyplot.imshow(array_band, cmap='Reds')\n",
    "pyplot.show()\n",
    "\n",
    "# Show histogram\n",
    "aantal_klassen = 50\n",
    "pyplot.hist(numpy.ravel(array_band),aantal_klassen)\n",
    "pyplot.title('Histogram van rasterband')\n",
    "pyplot.xlabel('DN'); \n",
    "pyplot.ylabel('Frequentie')\n",
    "pyplot.show()\n",
    "\n",
    "# Sluit bestand\n",
    "raster_bestand = None"
   ]
  }
 ],
 "metadata": {
  "kernelspec": {
   "display_name": "Python 3.11.0 64-bit",
   "language": "python",
   "name": "python3"
  },
  "language_info": {
   "codemirror_mode": {
    "name": "ipython",
    "version": 3
   },
   "file_extension": ".py",
   "mimetype": "text/x-python",
   "name": "python",
   "nbconvert_exporter": "python",
   "pygments_lexer": "ipython3",
   "version": "3.11.0 (main, Oct 24 2022, 18:26:48) [MSC v.1933 64 bit (AMD64)]"
  },
  "orig_nbformat": 2,
  "vscode": {
   "interpreter": {
    "hash": "6090159f195111259c09d95d79fb1f2622e138688553073b14c580eb658dcffb"
   }
  }
 },
 "nbformat": 4,
 "nbformat_minor": 2
}

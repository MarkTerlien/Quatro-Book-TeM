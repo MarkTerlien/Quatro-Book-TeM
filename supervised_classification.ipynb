{
 "cells": [
  {
   "cell_type": "raw",
   "metadata": {},
   "source": [
    "---\n",
    "title:  Laden van gegevens in database\n",
    "author: Mark Terlien\n",
    "date: \"December 2nd, 2022\"\n",
    "format: \n",
    "  html:\n",
    "    cold-fold: true\n",
    "---"
   ]
  },
  {
   "cell_type": "markdown",
   "metadata": {},
   "source": [
    "## Introduction\n",
    "In this execise we will make a landuse classification using a Sentinel-2 image. We are going to use supervised classification algorithm to classify the landuse is 5 classes:\n",
    "- water\n",
    "- forest\n",
    "- frass\n",
    "- sand\n",
    "- buildings\n",
    "\n",
    "We will be using [Naive Bayes](https://scikit-learn.org/stable/modules/naive_bayes.html#gaussian-naive-bayes). Naive Bayes predicts the probabilities that a data point belongs to a particular landuse class. The class with the highest probability is considered as the most likely class. The Naive Bayes implementation provided by the [scikit-learn](http://scikit-learn.org) library. `scikit-learn` is a machine learning library that provides easy and consistent interfaces to many of the most popular machine learning algorithms. It is built on top of the pre-existing scientific Python libraries, including `numpy`, `scipy`, and `matplotlib`, which makes it very easy to incorporate into your workflow. \n",
    "\n",
    "This exercise is based on the Jupyter notebooks of Patrick Gray (patrick.c.gray at duke) - https://github.com/patrickcgray"
   ]
  },
  {
   "cell_type": "markdown",
   "metadata": {},
   "source": [
    "## Preparing the dataset\n",
    "#### Opening the images\n",
    "The first step is to import the modules we are going to use in this exercise and the landuse classes:"
   ]
  },
  {
   "cell_type": "code",
   "execution_count": 1,
   "metadata": {},
   "outputs": [],
   "source": [
    "from sklearn.naive_bayes import GaussianNB\n",
    "from sklearn.ensemble import RandomForestClassifier\n",
    "from sklearn.model_selection import train_test_split\n",
    "from sklearn import metrics\n",
    "from osgeo import gdal\n",
    "from osgeo import gdalconst\n",
    "from osgeo import ogr\n",
    "from osgeo import gdalnumeric\n",
    "from osgeo import gdal_array\n",
    "import matplotlib.pyplot as plt\n",
    "import rasterio\n",
    "from rasterio import features\n",
    "from rasterio.mask import mask\n",
    "import geopandas as gpd\n",
    "import numpy as np\n",
    "from shapely.geometry import mapping\n",
    "import os\n",
    "import seaborn as sns\n",
    "import pandas as pd\n",
    "\n",
    "# Dictionary with landuse classes\n",
    "class_dict = {}\n",
    "class_dict[1] = 'water'\n",
    "class_dict[2] = 'forest'\n",
    "class_dict[3] = 'sand'\n",
    "class_dict[4] = 'grass'\n",
    "class_dict[5] = 'buildings'\n",
    "\n",
    "# Folder with sentinel images \n",
    "sentinel_folder = \"data_files/sentinel-2/\"\n",
    "\n",
    "# Names of the input files\n",
    "shape_file_in     = 'data_files/ground_truth.shp'\n",
    "raster_file_in    = 'data_files/sentinel-2/T31UFT_20190824T105031_B02_10m.tif'\n",
    "\n",
    "# Name of new GeoTIFF file with all bands\n",
    "sentinel_bands_file = 'data_files/sentinel_bands.tif'\n",
    "\n",
    "# Name of new GeoTIFF file with groud truth sample areas\n",
    "sample_areas_file = 'data_files/sample_areas.tif'\n"
   ]
  },
  {
   "attachments": {},
   "cell_type": "markdown",
   "metadata": {},
   "source": [
    "Now we need to collect all the Sentinel-2 bands because they come as individual images one per band. We merge them into one GeoTIFF image with multiple bands and we plot the image as false color composite for a visual inspection."
   ]
  },
  {
   "cell_type": "code",
   "execution_count": 14,
   "metadata": {},
   "outputs": [
    {
     "ename": "CPLE_AppDefinedError",
     "evalue": "Deleting data_files/sentinel_bands.tif failed: Permission denied",
     "output_type": "error",
     "traceback": [
      "\u001b[1;31m---------------------------------------------------------------------------\u001b[0m",
      "\u001b[1;31mCPLE_AppDefinedError\u001b[0m                      Traceback (most recent call last)",
      "Cell \u001b[1;32mIn [14], line 22\u001b[0m\n\u001b[0;32m     19\u001b[0m meta\u001b[39m.\u001b[39mupdate(count \u001b[39m=\u001b[39m \u001b[39mlen\u001b[39m(sentinal_band_paths))\n\u001b[0;32m     21\u001b[0m \u001b[39m# Read each layer and write it to stack\u001b[39;00m\n\u001b[1;32m---> 22\u001b[0m \u001b[39mwith\u001b[39;00m rasterio\u001b[39m.\u001b[39;49mopen(sentinel_bands_file, \u001b[39m'\u001b[39;49m\u001b[39mw\u001b[39;49m\u001b[39m'\u001b[39;49m, \u001b[39m*\u001b[39;49m\u001b[39m*\u001b[39;49mmeta) \u001b[39mas\u001b[39;00m dst:\n\u001b[0;32m     23\u001b[0m     \u001b[39mfor\u001b[39;00m \u001b[39mid\u001b[39m, layer \u001b[39min\u001b[39;00m \u001b[39menumerate\u001b[39m(sentinal_band_paths, start\u001b[39m=\u001b[39m\u001b[39m1\u001b[39m):\n\u001b[0;32m     24\u001b[0m         \u001b[39mwith\u001b[39;00m rasterio\u001b[39m.\u001b[39mopen(layer) \u001b[39mas\u001b[39;00m src1:\n",
      "File \u001b[1;32mc:\\Software\\Python311\\Lib\\site-packages\\rasterio\\env.py:437\u001b[0m, in \u001b[0;36mensure_env_with_credentials.<locals>.wrapper\u001b[1;34m(*args, **kwds)\u001b[0m\n\u001b[0;32m    434\u001b[0m     session \u001b[39m=\u001b[39m DummySession()\n\u001b[0;32m    436\u001b[0m \u001b[39mwith\u001b[39;00m env_ctor(session\u001b[39m=\u001b[39msession):\n\u001b[1;32m--> 437\u001b[0m     \u001b[39mreturn\u001b[39;00m f(\u001b[39m*\u001b[39;49margs, \u001b[39m*\u001b[39;49m\u001b[39m*\u001b[39;49mkwds)\n",
      "File \u001b[1;32mc:\\Software\\Python311\\Lib\\site-packages\\rasterio\\__init__.py:238\u001b[0m, in \u001b[0;36mopen\u001b[1;34m(fp, mode, driver, width, height, count, crs, transform, dtype, nodata, sharing, **kwargs)\u001b[0m\n\u001b[0;32m    236\u001b[0m writer \u001b[39m=\u001b[39m get_writer_for_driver(driver)\n\u001b[0;32m    237\u001b[0m \u001b[39mif\u001b[39;00m writer \u001b[39mis\u001b[39;00m \u001b[39mnot\u001b[39;00m \u001b[39mNone\u001b[39;00m:\n\u001b[1;32m--> 238\u001b[0m     s \u001b[39m=\u001b[39m writer(path, mode, driver\u001b[39m=\u001b[39;49mdriver,\n\u001b[0;32m    239\u001b[0m                width\u001b[39m=\u001b[39;49mwidth, height\u001b[39m=\u001b[39;49mheight,\n\u001b[0;32m    240\u001b[0m                count\u001b[39m=\u001b[39;49mcount, crs\u001b[39m=\u001b[39;49mcrs,\n\u001b[0;32m    241\u001b[0m                transform\u001b[39m=\u001b[39;49mtransform,\n\u001b[0;32m    242\u001b[0m                dtype\u001b[39m=\u001b[39;49mdtype, nodata\u001b[39m=\u001b[39;49mnodata,\n\u001b[0;32m    243\u001b[0m                sharing\u001b[39m=\u001b[39;49msharing,\n\u001b[0;32m    244\u001b[0m                \u001b[39m*\u001b[39;49m\u001b[39m*\u001b[39;49mkwargs)\n\u001b[0;32m    245\u001b[0m \u001b[39melse\u001b[39;00m:\n\u001b[0;32m    246\u001b[0m     \u001b[39mraise\u001b[39;00m DriverCapabilityError(\n\u001b[0;32m    247\u001b[0m         \u001b[39m\"\u001b[39m\u001b[39mWriter does not exist for driver: \u001b[39m\u001b[39m%s\u001b[39;00m\u001b[39m\"\u001b[39m \u001b[39m%\u001b[39m \u001b[39mstr\u001b[39m(driver)\n\u001b[0;32m    248\u001b[0m     )\n",
      "File \u001b[1;32mrasterio\\_io.pyx:1122\u001b[0m, in \u001b[0;36mrasterio._io.DatasetWriterBase.__init__\u001b[1;34m()\u001b[0m\n",
      "File \u001b[1;32mrasterio\\_io.pyx:86\u001b[0m, in \u001b[0;36mrasterio._io._delete_dataset_if_exists\u001b[1;34m()\u001b[0m\n",
      "File \u001b[1;32mrasterio\\_err.pyx:193\u001b[0m, in \u001b[0;36mrasterio._err.exc_wrap_int\u001b[1;34m()\u001b[0m\n",
      "\u001b[1;31mCPLE_AppDefinedError\u001b[0m: Deleting data_files/sentinel_bands.tif failed: Permission denied"
     ]
    }
   ],
   "source": [
    "# Find every file in the sentinal_fp directory\n",
    "sentinal_band_paths = [os.path.join(sentinel_folder, f) for f in os.listdir(sentinel_folder) if os.path.isfile(os.path.join(sentinel_folder, f))]\n",
    "sentinal_band_paths.sort()\n",
    "sentinal_band_paths\n",
    "\n",
    "# Check to see if the dir it exists, if not, create it\n",
    "if not os.path.exists(sentinel_folder):\n",
    "    os.makedirs(sentinel_folder)\n",
    "\n",
    "# Read metadata of first file and assume all other bands are the same\n",
    "with rasterio.open(sentinal_band_paths[0]) as src0:\n",
    "    meta = src0.meta\n",
    "\n",
    "# Update metadata to reflect the number of layers\n",
    "meta.update(count = len(sentinal_band_paths))\n",
    "\n",
    "# Read each layer and write it to stack\n",
    "with rasterio.open(sentinel_bands_file, 'w', **meta) as dst:\n",
    "    for id, layer in enumerate(sentinal_band_paths, start=1):\n",
    "        with rasterio.open(layer) as src1:\n",
    "            dst.write_band(id, src1.read(1))\n",
    "\n",
    "# Plot the FCC\n",
    "raster = rasterio.open(sentinel_bands_file)\n",
    "\n",
    "# Function to normalize bands into 0.0 - 1.0 scale\n",
    "def normalize(array):\n",
    "    array_min, array_max = array.min(), array.max()\n",
    "    return (array - array_min) / (array_max - array_min)\n",
    "\n",
    "# Convert to numpy arrays\n",
    "nir = raster.read(4)\n",
    "red = raster.read(3)\n",
    "green = raster.read(2)\n",
    "\n",
    "# Close raster\n",
    "raster = None\n",
    "\n",
    "# Normalize band DN\n",
    "nir_norm = normalize(nir)\n",
    "red_norm = normalize(red)\n",
    "green_norm = normalize(green)\n",
    "\n",
    "# Stack bands\n",
    "nrg = np.dstack((nir_norm, red_norm, green_norm))\n",
    "\n",
    "# View the color composite\n",
    "plt.imshow(nrg)\n"
   ]
  },
  {
   "attachments": {},
   "cell_type": "markdown",
   "metadata": {},
   "source": [
    "Now we need to rasterize the vector file with the sample areas (ground truth) we are going to use for training ang testing the model."
   ]
  },
  {
   "cell_type": "code",
   "execution_count": 3,
   "metadata": {},
   "outputs": [
    {
     "name": "stdout",
     "output_type": "stream",
     "text": [
      "The raster file sample areas: data_files/sample_areas.tif\n"
     ]
    }
   ],
   "source": [
    "# Read ground_truth polygons\n",
    "samples_areas = gpd.read_file(shape_file_in)\n",
    "\n",
    "# Open raster and get metadata\n",
    "rst = rasterio.open(raster_file_in)\n",
    "meta = rst.meta.copy()\n",
    "meta.update(compress='lzw')\n",
    "\n",
    "# Here the magic takes place\n",
    "with rasterio.open(sample_areas_file, 'w+', **meta) as out:\n",
    "    out_arr = out.read(1)\n",
    "    # This is where we create a generator of geom, value pairs to use in rasterizing\n",
    "    shapes = ((geom,value) for geom, value in zip(samples_areas.geometry, samples_areas.id))\n",
    "    burned = features.rasterize(shapes=shapes, fill=0, out=out_arr, transform=out.transform)\n",
    "    out.write_band(1, burned)\n",
    "\n",
    "# The rasterized file\n",
    "print('The raster file sample areas: ' + str(sample_areas_file))"
   ]
  },
  {
   "attachments": {},
   "cell_type": "markdown",
   "metadata": {},
   "source": [
    "The following step is to determine the spectral reflectance curve for each landuse class. "
   ]
  },
  {
   "cell_type": "code",
   "execution_count": 4,
   "metadata": {},
   "outputs": [
    {
     "name": "stdout",
     "output_type": "stream",
     "text": [
      "We have 10615 samples\n",
      "The training data include 5 classes: [1 2 3 4 5]\n"
     ]
    }
   ],
   "source": [
    "# Display rows, columns and number of bands\n",
    "sentinel_bands = gdal.Open(sentinel_bands_file)\n",
    "nr_of_cols     = sentinel_bands.RasterXSize\n",
    "nr_of_rows     = sentinel_bands.RasterYSize\n",
    "nr_of_bands    = sentinel_bands.RasterCount\n",
    "\n",
    "# Store bands from satellite image in array   \n",
    "sentinel_bands_array = np.zeros((nr_of_rows, nr_of_cols, nr_of_bands), gdal_array.GDALTypeCodeToNumericTypeCode(gdal.GDT_Int16))\n",
    "for band_nr in range(nr_of_bands):\n",
    "    sentinel_bands_array[:, :, band_nr] = sentinel_bands.GetRasterBand(band_nr + 1).ReadAsArray()\n",
    "\n",
    "# Find how many non-zero entries we have -- i.e. how many training data samples?\n",
    "sample_areas_ds = gdal.Open(sample_areas_file, gdal.GA_ReadOnly)\n",
    "sample_areas_array = sample_areas_ds.GetRasterBand(1).ReadAsArray().astype(np.uint16)\n",
    "n_samples = np.sum(sample_areas_array[(sample_areas_array > 0)])\n",
    "print('We have {n} samples'.format(n=n_samples))\n",
    "\n",
    "# What are our classification labels?\n",
    "labels = np.unique(sample_areas_array[(sample_areas_array > 0)])\n",
    "print('The training data include {n} classes: {classes}'.format(n=labels.size, classes=labels))\n",
    "\n",
    "# Maak nieuwe array waarbij je alleen de waardes selecteert waar een sample punt is\n",
    "X = sentinel_bands_array[(sample_areas_array > 0), :]  \n",
    "y = sample_areas_array[(sample_areas_array > 0)]\n"
   ]
  },
  {
   "attachments": {},
   "cell_type": "markdown",
   "metadata": {},
   "source": [
    "Now that we have a list with the features (the 4 bands) and a list with labels (landuse classes) we can plot the spectral reflectance curve."
   ]
  },
  {
   "cell_type": "code",
   "execution_count": 5,
   "metadata": {},
   "outputs": [
    {
     "data": {
      "image/png": "[encoded data removed]",
      "text/plain": [
       "<Figure size 640x480 with 1 Axes>"
      ]
     },
     "metadata": {},
     "output_type": "display_data"
    }
   ],
   "source": [
    "# Make array witj number of bands\n",
    "band_count = np.arange(1,nr_of_bands + 1)\n",
    "\n",
    "# Calculate mean reflectance for each band in each class\n",
    "classes = np.unique(y)\n",
    "for class_type in classes:\n",
    "    band_intensity = np.mean(X[y==class_type, :], axis=0)\n",
    "    label = class_dict[class_type]\n",
    "    plt.plot(band_count, band_intensity, label=label)\n",
    "\n",
    "# Annotation figure\n",
    "plt.title('Spectral reflectance curves')\n",
    "plt.gca().xaxis.set_major_locator(plt.MultipleLocator(1))\n",
    "plt.legend(loc=0)\n",
    "plt.grid(visible=True, which='major', color='#666666', linestyle='-')\n",
    "plt.minorticks_on()\n",
    "plt.grid(visible=True, which='minor', color='#999999', linestyle='-', alpha=0.2)\n",
    "plt.xlabel('Wave length (nm)')\n",
    "plt.ylabel('Reflectance')\n",
    "plt.show()"
   ]
  },
  {
   "cell_type": "code",
   "execution_count": 13,
   "metadata": {},
   "outputs": [
    {
     "name": "stdout",
     "output_type": "stream",
     "text": [
      "Accuracy: 0.9970157352143245\n",
      "Our OOB prediction of accuracy is: 99.2399565689468%\n",
      "[[ 756    0    0    0    0]\n",
      " [   0 1759    0    0    1]\n",
      " [   0    0  536    0    0]\n",
      " [   0    0    0  516    0]\n",
      " [   0    9    0    1  108]]\n"
     ]
    },
    {
     "data": {
      "text/plain": [
       "Text(86.24999999999999, 0.5, 'Actual')"
      ]
     },
     "execution_count": 13,
     "metadata": {},
     "output_type": "execute_result"
    },
    {
     "data": {
      "image/png": "[encoded data removed]",
      "text/plain": [
       "<Figure size 1000x1000 with 2 Axes>"
      ]
     },
     "metadata": {},
     "output_type": "display_data"
    }
   ],
   "source": [
    "# Split the dataset into training and test\n",
    "X_train, X_test, y_train, y_test = train_test_split(X, y, test_size=0.8) # 70% training and 30% test\n",
    "\n",
    "# Initialize our model with 500 trees\n",
    "rf = RandomForestClassifier(n_estimators=50, oob_score=True)\n",
    "\n",
    "# Train the model using the training sets \n",
    "rf.fit(X_train,y_train)\n",
    "\n",
    "# Use the model to predict\n",
    "y_pred = rf.predict(X_test)\n",
    "\n",
    "# Model Accuracy, how often is the classifier correct?\n",
    "print(\"Accuracy:\", metrics.accuracy_score(y_test, y_pred))\n",
    "\n",
    "# Print prediction\n",
    "print('Our OOB prediction of accuracy is: {oob}%'.format(oob=rf.oob_score_ * 100))\n",
    "\n",
    "# Confusion matrix to see how many points are correctly classified\n",
    "conf_mat = metrics.confusion_matrix(y_test, y_pred)\n",
    "print(conf_mat)\n",
    "categories = ['water','forest','sand','grass','buildings']\n",
    "conf_matrix_df = pd.DataFrame(conf_mat,columns=categories,index=categories)\n",
    "\n",
    "# Plot confusion matrix heatmap\n",
    "plt.figure(figsize=(10, 10))\n",
    "sns.set(font_scale=1.5)\n",
    "sns.heatmap(conf_matrix_df,\n",
    "            cmap='coolwarm',\n",
    "            annot=True,\n",
    "            fmt='.5g',\n",
    "            vmax=200)\n",
    "\n",
    "plt.xlabel('Predicted',fontsize=22)\n",
    "plt.ylabel('Actual',fontsize=22)\n"
   ]
  },
  {
   "cell_type": "markdown",
   "metadata": {},
   "source": [
    "Okay we've successfully written it out now let's open it back up and make sure it meets our expectations:"
   ]
  },
  {
   "cell_type": "code",
   "execution_count": null,
   "metadata": {},
   "outputs": [],
   "source": [
    "full_dataset = rasterio.open(img_fp)\n",
    "img_rows, img_cols = full_dataset.shape\n",
    "img_bands = full_dataset.count\n",
    "print('Dimensions in rows, cols: ' + str(full_dataset.shape)) # dimensions\n",
    "print('Number of bands: ' + str(full_dataset.count)) # bands"
   ]
  },
  {
   "cell_type": "markdown",
   "metadata": {},
   "source": [
    "Let's take a look at the image just to make sure that it is on the right location:"
   ]
  },
  {
   "cell_type": "code",
   "execution_count": null,
   "metadata": {},
   "outputs": [],
   "source": [
    "import matplotlib.pyplot as plt\n",
    "from rasterio.plot import show\n",
    "\n",
    "clipped_img = full_dataset.read([2,1,1])[:,:,:]\n",
    "print(clipped_img.shape)\n",
    "fig, ax = plt.subplots(figsize=(10,7))\n",
    "show(clipped_img[:, :, :], ax=ax, transform=full_dataset.transform) # add the transform arg to get it in lat long coords"
   ]
  },
  {
   "cell_type": "code",
   "execution_count": null,
   "metadata": {},
   "outputs": [],
   "source": [
    "full_dataset.crs"
   ]
  },
  {
   "cell_type": "markdown",
   "metadata": {},
   "source": [
    "Open the shapefile and check if crs is the same as crs from raster image."
   ]
  },
  {
   "cell_type": "code",
   "execution_count": null,
   "metadata": {},
   "outputs": [],
   "source": [
    "shapefile = gpd.read_file('data_files/ground_truth.shp')\n",
    "shapefile.crs"
   ]
  },
  {
   "cell_type": "markdown",
   "metadata": {},
   "source": [
    "Now we want to extract for the geometry of each feature the pixel values in 4 bands:"
   ]
  },
  {
   "cell_type": "code",
   "execution_count": null,
   "metadata": {},
   "outputs": [],
   "source": [
    "# this generates a list of shapely geometries\n",
    "geoms = shapefile.geometry.values \n",
    "\n",
    "# let's grab a single shapely geometry to check\n",
    "geometry = geoms[0] \n",
    "print(type(geometry))\n",
    "print(geometry)\n",
    "\n",
    "# transform to GeoJSON format\n",
    "from shapely.geometry import mapping\n",
    "feature = [mapping(geometry)] # can also do this using polygon.__geo_interface__\n",
    "print(type(feature))\n",
    "print(feature)"
   ]
  },
  {
   "cell_type": "markdown",
   "metadata": {},
   "source": [
    "Now let's extract the raster values values within the polygon using the rasterio [mask() function](https://rasterio.readthedocs.io/en/latest/api/rasterio.mask.html)"
   ]
  },
  {
   "cell_type": "code",
   "execution_count": null,
   "metadata": {},
   "outputs": [],
   "source": [
    "out_image, out_transform = mask(full_dataset, feature, crop=True)\n",
    "out_image.shape\n",
    "\n"
   ]
  },
  {
   "cell_type": "markdown",
   "metadata": {},
   "source": [
    "This is a training area of 4 bands and 29x77 pixels."
   ]
  },
  {
   "cell_type": "markdown",
   "metadata": {},
   "source": [
    "We'll be doing a lot of memory intensive work so let's clean up and close this dataset."
   ]
  },
  {
   "cell_type": "code",
   "execution_count": null,
   "metadata": {},
   "outputs": [],
   "source": [
    "full_dataset.close()"
   ]
  },
  {
   "cell_type": "markdown",
   "metadata": {},
   "source": [
    "### Building the Training Data for `scikit-learn`\n",
    "\n",
    "Now let's do it for all features in the shapefile and create an array `X` that has all the pixels and an array `y` that has all the training labels.\n",
    "\n",
    "\n",
    "First step is to rasterize the shapefile with the ground truth polygons\n"
   ]
  },
  {
   "cell_type": "code",
   "execution_count": null,
   "metadata": {},
   "outputs": [],
   "source": [
    "# Rasterize perceel to raster of satellite image\n",
    "def rasterize_perceel( shape_file_name, raster_file_name) :\n",
    "\n",
    "    # Open raster bestand en haal aantal rijen en kolommen op voor output raster bestand\n",
    "    raster_file = gdal.Open(raster_file_name, gdalconst.GA_ReadOnly )\n",
    "    nr_of_columns = raster_file.RasterXSize\n",
    "    nr_of_rows    = raster_file.RasterYSize\n",
    "    crs_wkt       = raster_file.GetProjection()\n",
    "\n",
    "    # Read layer from shapefile\n",
    "    driver = ogr.GetDriverByName('ESRI Shapefile')\n",
    "    dataSource = driver.Open(shape_file_name, 0)\n",
    "    outLayer = dataSource.GetLayer()\n",
    "        \n",
    "    # Maak leeg raster bestand met datatype Byte\n",
    "    driver = gdal.GetDriverByName(\"GTiff\")\n",
    "    raster_file_name_ground_truth = r'data_files/ground_truth.tif'\n",
    "    if os.path.isfile(raster_file_name_ground_truth) :\n",
    "        os.remove(raster_file_name_ground_truth)\n",
    "    raster_file_ground_truth = driver.Create(raster_file_name_ground_truth, nr_of_columns, nr_of_rows, 1, gdal.GDT_Byte)\n",
    "\n",
    "    # Kopieer geotrans en coordinaatsysteem\n",
    "    gdalnumeric.CopyDatasetInfo(raster_file, raster_file_ground_truth)\n",
    "\n",
    "    # Initialize with NoData values\n",
    "    NoData_value = 255\n",
    "    raster_file_ground_truth.GetRasterBand(1).SetNoDataValue(NoData_value)\n",
    "    raster_file_ground_truth.GetRasterBand(1).FlushCache()\n",
    "\n",
    "    # Rasterize\n",
    "    gdal.RasterizeLayer(raster_file_ground_truth, [1], outLayer, options=[\"ATTRIBUTE=id\"])\n",
    "\n",
    "    # Return name of generated rastefile\n",
    "    raster_file = None\n",
    "    raster_file_ground_truth = None\n",
    "    return raster_file_name_ground_truth\n",
    "\n",
    "# Call function\n",
    "shape_file_in = 'data_files/ground_truth.shp'\n",
    "raster_file_in = 'data_files/sentinel-2/T31UFT_20190824T105031_B02_10m.tif'\n",
    "raster_file_ground_truth_name = rasterize_perceel( shape_file_in, raster_file_in)\n",
    "print(raster_file_ground_truth_name)\n"
   ]
  },
  {
   "cell_type": "markdown",
   "metadata": {},
   "source": [
    "The next step is to get the digital numbers for the different bands"
   ]
  },
  {
   "cell_type": "code",
   "execution_count": null,
   "metadata": {},
   "outputs": [],
   "source": [
    "# Function to get all DN within perceel\n",
    "# https://geowombat.readthedocs.io/en/latest/tutorial.html\n",
    "# https://pygis.io/docs/f_rs_extraction.html#f-rs-extraction-point\n",
    "# https://pygis.io/docs/f_rs_extraction.html#extracting-data-by-polygon-geometry\n",
    "\n",
    "def get_dn_in_polygon_for_band(raster_file_gt_name, raster_file_band_name, landuse_class):\n",
    "    \n",
    "    # Open raster perceel file and rasterband\n",
    "    raster_file_gt = gdal.Open(raster_file_gt_name)\n",
    "    raster_file_gt_array = raster_file_gt.GetRasterBand(1).ReadAsArray()\n",
    "    raster_file_band = gdal.Open(raster_file_band_name)\n",
    "    raster_file_band_array_1 = raster_file_band.GetRasterBand(1).ReadAsArray()\n",
    "    raster_file_band_array_2 = raster_file_band.GetRasterBand(2).ReadAsArray()\n",
    "    raster_file_band_array_3 = raster_file_band.GetRasterBand(3).ReadAsArray()\n",
    "    raster_file_band_array_4 = raster_file_band.GetRasterBand(4).ReadAsArray()\n",
    "\n",
    "    # Iterate over perceel file and sample when value is 1 (due to warp you may have 0 value along edges, so ignore these)\n",
    "    dn_out = []\n",
    "    class_out = []\n",
    "    for row in range(0, raster_file_gt_array.shape[0]):\n",
    "        for col in range(0, raster_file_gt_array.shape[1]):\n",
    "            if int(raster_file_gt_array[row,col]) == landuse_class :\n",
    "                if int(raster_file_band_array_1[row,col]) > 0 :\n",
    "                    dn_bands = []\n",
    "                    dn_bands.append(int(raster_file_band_array_1[row,col]))\n",
    "                    dn_bands.append(int(raster_file_band_array_2[row,col]))\n",
    "                    dn_bands.append(int(raster_file_band_array_3[row,col]))\n",
    "                    dn_bands.append(int(raster_file_band_array_4[row,col]))\n",
    "                    dn_out.append(dn_bands)\n",
    " \n",
    "    # Close files\n",
    "    raster_file_gt = None\n",
    "    raster_file_band = None\n",
    "\n",
    "    # Return list with DN's for perceel and band\n",
    "    return dn_out\n",
    "\n",
    "# Call function\n",
    "landuse_class = class_dict['water']\n",
    "X1 = np.array(get_dn_in_polygon_for_band(raster_file_ground_truth_name, img_fp, landuse_class))\n",
    "y1 = np.full((len(X1)), 'water')\n",
    "landuse_class = class_dict['forest']\n",
    "X2 = np.array(get_dn_in_polygon_for_band(raster_file_ground_truth_name, img_fp, landuse_class))\n",
    "y2 = np.full((len(X2)), 'forest')\n",
    "landuse_class = class_dict['sand']\n",
    "X3 = np.array(get_dn_in_polygon_for_band(raster_file_ground_truth_name, img_fp, landuse_class))\n",
    "y3 = np.full((len(X3)), 'sand')\n",
    "landuse_class = class_dict['grass']\n",
    "X4 = np.array(get_dn_in_polygon_for_band(raster_file_ground_truth_name, img_fp, landuse_class))\n",
    "y4 = np.full((len(X4)), 'grass')\n",
    "landuse_class = class_dict['buildings']\n",
    "X5 = np.array(get_dn_in_polygon_for_band(raster_file_ground_truth_name, img_fp, landuse_class))\n",
    "y5 = np.full((len(X5)), 'buildings')\n",
    "\n",
    "X = np.concatenate((X1, X2, X3, X4, X5))\n",
    "y = np.concatenate((y1, y2, y3, y4, y5))\n",
    "\n"
   ]
  },
  {
   "cell_type": "code",
   "execution_count": null,
   "metadata": {},
   "outputs": [],
   "source": [
    "# Rasterize vector\n",
    "import geopandas as gpd\n",
    "import rasterio\n",
    "from rasterio import features\n",
    "shp_fn = 'data_files/ground_truth.shp'\n",
    "rst_fn = 'data_files/sentinel-2/T31UFT_20190824T105031_B02_10m.tif'\n",
    "out_fn = 'data_files/ground_truth_test.tif'\n",
    "\n",
    "# Read ground_truth polygons\n",
    "ground_truth_polygons = gpd.read_file(shp_fn)\n",
    "print(ground_truth_polygons)\n",
    "\n",
    "# Open raster\n",
    "rst = rasterio.open(rst_fn)\n",
    "meta = rst.meta.copy()\n",
    "meta.update(compress='lzw')\n",
    "\n",
    "with rasterio.open(out_fn, 'w+', **meta) as out:\n",
    "    out_arr = out.read(1)\n",
    "    # this is where we create a generator of geom, value pairs to use in rasterizing\n",
    "    shapes = ((geom,value) for geom, value in zip(ground_truth_polygons.geometry, ground_truth_polygons.id))\n",
    "    burned = features.rasterize(shapes=shapes, fill=0, out=out_arr, transform=out.transform)\n",
    "    out.write_band(1, burned)\n",
    "\n",
    "from osgeo import gdal_array\n",
    "ground_truth_file = 'data_files/ground_truth.tif'\n",
    "img_fp = 'data_files/sentinel_bands.tif'\n",
    "\n",
    "# Display rows, columns and number of bands\n",
    "img_bands   = gdal.Open(img_fp)\n",
    "nr_of_cols  = img_bands.RasterXSize\n",
    "nr_of_rows  = img_bands.RasterYSize\n",
    "nr_of_bands = img_bands.RasterCount\n",
    "\n",
    "# Store bands from satellite image in araay   \n",
    "img = np.zeros((nr_of_rows, nr_of_cols, nr_of_bands), gdal_array.GDALTypeCodeToNumericTypeCode(gdal.GDT_Int16))\n",
    "\n",
    "for band_nr in range(nr_of_bands):\n",
    "    img[:, :, band_nr] = img_bands.GetRasterBand(band_nr + 1).ReadAsArray()\n",
    "\n",
    "# Find how many non-zero entries we have -- i.e. how many training data samples?\n",
    "ground_truth_ds = gdal.Open(ground_truth_file, gdal.GA_ReadOnly)\n",
    "ground_truth_array = ground_truth_ds.GetRasterBand(1).ReadAsArray().astype(np.uint16)\n",
    "n_samples = np.sum(ground_truth_array[(ground_truth_array > 0) & (ground_truth_array < 255)])\n",
    "print('We have {n} samples'.format(n=n_samples))\n",
    "\n",
    "# What are our classification labels?\n",
    "labels = np.unique(ground_truth_array[(ground_truth_array > 0) & (ground_truth_array < 255)])\n",
    "print('The training data include {n} classes: {classes}'.format(n=labels.size, classes=labels))\n",
    "\n",
    "# Maak nieuwe array waarbij je alleen de waardes selecteert waar een sample punt is\n",
    "X = img[(ground_truth_array > 0) & (ground_truth_array < 255), :]  \n",
    "y = ground_truth_array[(ground_truth_array > 0) & (ground_truth_array < 255)]\n",
    "\n",
    "print(X)\n",
    "print(y)"
   ]
  },
  {
   "cell_type": "code",
   "execution_count": null,
   "metadata": {},
   "outputs": [],
   "source": [
    "X = np.array([], dtype=np.int8).reshape(0,4) # pixels for training\n",
    "y = np.array([], dtype=np.string_) # labels for training\n",
    "\n",
    "# extract the raster values within the polygon \n",
    "with rasterio.open(img_fp) as src:\n",
    "    band_count = src.count\n",
    "    for index, geom in enumerate(geoms):\n",
    "        feature = [mapping(geom)]\n",
    "\n",
    "        # the mask function returns an array of the raster pixels within this feature\n",
    "        out_image, out_transform = mask(src, feature, crop=True) \n",
    "        #print(out_image)\n",
    "        # eliminate all the pixels with 0 values for all 8 bands - AKA not actually part of the shapefile\n",
    "        out_image_trimmed = out_image[:,~np.all(out_image == 0, axis=0)]\n",
    "        # eliminate all the pixels with 255 values for all 8 bands - AKA not actually part of the shapefile\n",
    "        out_image_trimmed = out_image_trimmed[:,~np.all(out_image_trimmed == 255, axis=0)]\n",
    "        # reshape the array to [pixel count, bands]\n",
    "        out_image_reshaped = out_image_trimmed.reshape(-1, band_count)\n",
    "        #print(out_image_reshaped)\n",
    "        # append the labels to the y array\n",
    "        y = np.append(y,[shapefile[\"landuse\"][index]] * out_image_reshaped.shape[0]) \n",
    "        # stack the pizels onto the pixel array\n",
    "        X = np.vstack((X,out_image_reshaped))  \n",
    "        print(X)\n",
    "        #print(y)\n",
    "  "
   ]
  },
  {
   "cell_type": "markdown",
   "metadata": {},
   "source": [
    "#### Pairing Y with X\n",
    "Now that we have the image we want to classify (our X feature inputs), and the land cover labels (our y labeled data), let's check to make sure they match in size so we can feed them to Naive Bayes:"
   ]
  },
  {
   "cell_type": "code",
   "execution_count": null,
   "metadata": {},
   "outputs": [],
   "source": [
    "# What are our classification labels?\n",
    "labels = np.unique(shapefile[\"landuse\"])\n",
    "print('The training data include {n} classes: {classes}\\n'.format(n=labels.size, \n",
    "                                                                classes=labels))\n",
    "\n",
    "# We will need a \"X\" matrix containing our features, and a \"y\" array containing our labels\n",
    "print('Our X matrix is sized: {sz}'.format(sz=X.shape))\n",
    "print('Our y array is sized: {sz}'.format(sz=y.shape))\n"
   ]
  },
  {
   "cell_type": "markdown",
   "metadata": {},
   "source": [
    "It all looks good! Let's explore the spectral signatures of each class now to make sure they're actually separable since all we're going by in this classification is pixel values."
   ]
  },
  {
   "cell_type": "code",
   "execution_count": null,
   "metadata": {
    "scrolled": true
   },
   "outputs": [],
   "source": [
    "fig, ax = plt.subplots(1,2, figsize=[20,8])\n",
    "\n",
    "# numbers 1-8\n",
    "band_count = np.arange(1,5)\n",
    "\n",
    "classes = np.unique(y)\n",
    "for class_type in classes:\n",
    "    band_intensity = np.mean(X[y==class_type, :], axis=0)\n",
    "    ax[0].plot(band_count, band_intensity, label=class_type)\n",
    "# plot them as lines\n",
    "\n",
    "\n",
    "\n",
    "# Add some axis labels\n",
    "ax[0].set_xlabel('Band #')\n",
    "ax[0].set_ylabel('Reflectance Value')\n",
    "#ax.set\n",
    "ax[0].legend(loc=\"upper right\")\n",
    "# Add a title\n",
    "ax[0].set_title('Band Intensities Full Overview')\n"
   ]
  },
  {
   "cell_type": "markdown",
   "metadata": {},
   "source": [
    "They look okay but emergent wetland and water look quite similar! They're going to be difficult to differentiate."
   ]
  },
  {
   "cell_type": "markdown",
   "metadata": {},
   "source": [
    "Let's make a quick helper function, this one will convert the class labels into indicies and then assign a dictionary relating the class indices and their names."
   ]
  },
  {
   "cell_type": "code",
   "execution_count": null,
   "metadata": {},
   "outputs": [],
   "source": []
  },
  {
   "cell_type": "markdown",
   "metadata": {},
   "source": [
    "## Training the Classifier\n",
    "Now that we have our X matrix of feature inputs (the spectral bands) and our y array (the labels), we can train our model.\n",
    "\n",
    "Visit [this web page to find the usage of GaussianNaiveBayes Classifier](https://scikit-learn.org/stable/modules/naive_bayes.html#gaussian-naive-bayes) from `scikit-learn`."
   ]
  },
  {
   "cell_type": "code",
   "execution_count": null,
   "metadata": {},
   "outputs": [],
   "source": [
    "from sklearn.naive_bayes import GaussianNB\n",
    "\n",
    "gnb = GaussianNB()\n",
    "gnb.fit(X, y)"
   ]
  },
  {
   "cell_type": "markdown",
   "metadata": {},
   "source": [
    "It is that simple to train a classifier in `scikit-learn`! The hard part is often validation and interpretation."
   ]
  },
  {
   "cell_type": "markdown",
   "metadata": {},
   "source": [
    "## Predicting on the image\n",
    "\n",
    "With our Naive Bayes classifier fit, we can now proceed by trying to classify the entire image:\n",
    "\n",
    "We're only going to open the subset of the image we viewed above because otherwise it is computationally too intensive for most users."
   ]
  },
  {
   "cell_type": "code",
   "execution_count": null,
   "metadata": {},
   "outputs": [],
   "source": [
    "from rasterio.plot import show\n",
    "from rasterio.plot import show_hist\n",
    "from rasterio.windows import Window\n",
    "from rasterio.plot import reshape_as_raster, reshape_as_image"
   ]
  },
  {
   "cell_type": "code",
   "execution_count": null,
   "metadata": {},
   "outputs": [],
   "source": [
    "with rasterio.open(img_fp) as src:\n",
    "    # may need to reduce this image size if your kernel crashes, takes a lot of memory\n",
    "    img = src.read()[:, 150:600, 250:1400]\n",
    "\n",
    "# Take our full image and reshape into long 2d array (nrow * ncol, nband) for classification\n",
    "print(img.shape)\n",
    "reshaped_img = reshape_as_image(img)\n",
    "print(reshaped_img.shape)"
   ]
  },
  {
   "cell_type": "markdown",
   "metadata": {},
   "source": [
    "Now we can predict for each pixel in our image:"
   ]
  },
  {
   "cell_type": "code",
   "execution_count": null,
   "metadata": {},
   "outputs": [],
   "source": [
    "class_prediction = gnb.predict(reshaped_img.reshape(-1, 8))\n",
    "\n",
    "# Reshape our classification map back into a 2D matrix so we can visualize it\n",
    "class_prediction = class_prediction.reshape(reshaped_img[:, :, 0].shape)"
   ]
  },
  {
   "cell_type": "markdown",
   "metadata": {},
   "source": [
    "Because our shapefile came with the labels as strings we want to convert them to a numpy array with ints using the helper function we made earlier."
   ]
  },
  {
   "cell_type": "code",
   "execution_count": null,
   "metadata": {},
   "outputs": [],
   "source": [
    "class_prediction = str_class_to_int(class_prediction)"
   ]
  },
  {
   "cell_type": "markdown",
   "metadata": {},
   "source": [
    "### Let's visualize it!\n",
    "\n",
    "First we'll make a colormap so we can visualize the classes, which are just encoded as integers, in more logical colors. Don't worry too much if this code is confusing! It can be a little clunky to specify colormaps for `matplotlib`."
   ]
  },
  {
   "cell_type": "code",
   "execution_count": null,
   "metadata": {},
   "outputs": [],
   "source": [
    "def color_stretch(image, index):\n",
    "    colors = image[:, :, index].astype(np.float64)\n",
    "    for b in range(colors.shape[2]):\n",
    "        colors[:, :, b] = rasterio.plot.adjust_band(colors[:, :, b])\n",
    "    return colors\n",
    "    \n",
    "# find the highest pixel value in the prediction image\n",
    "n = int(np.max(class_prediction))\n",
    "\n",
    "# next setup a colormap for our map\n",
    "colors = dict((\n",
    "    (0, (48, 156, 214, 255)),   # Blue - Water\n",
    "    (1, (139,69,19, 255)),      # Brown - WetSand\n",
    "    (2, (96, 19, 134, 255)),    # Purple - Emergent Wetland\n",
    "    (3, (244, 164, 96, 255)),   # Tan - Sand\n",
    "    (4, (206, 224, 196, 255)),  # Lime - Herbaceous\n",
    "    (5, (34, 139, 34, 255)),    # Forest Green - Forest \n",
    "))\n",
    "\n",
    "# Put 0 - 255 as float 0 - 1\n",
    "for k in colors:\n",
    "    v = colors[k]\n",
    "    _v = [_v / 255.0 for _v in v]\n",
    "    colors[k] = _v\n",
    "    \n",
    "index_colors = [colors[key] if key in colors else \n",
    "                (255, 255, 255, 0) for key in range(0, n+1)]\n",
    "\n",
    "cmap = plt.matplotlib.colors.ListedColormap(index_colors, 'Classification', n+1)"
   ]
  },
  {
   "cell_type": "markdown",
   "metadata": {},
   "source": [
    "Now show the classified map next to the RGB image!"
   ]
  },
  {
   "cell_type": "code",
   "execution_count": null,
   "metadata": {},
   "outputs": [],
   "source": [
    "fig, axs = plt.subplots(2,1,figsize=(10,7))\n",
    "\n",
    "img_stretched = color_stretch(reshaped_img, [4, 3, 2])\n",
    "axs[0].imshow(img_stretched)\n",
    "\n",
    "axs[1].imshow(class_prediction, cmap=cmap, interpolation='none')\n",
    "\n",
    "fig.show()"
   ]
  },
  {
   "cell_type": "markdown",
   "metadata": {},
   "source": [
    "### This looks pretty good!\n",
    "\n",
    "Let's generate a map of Normalized Difference Water Index (NDWI) and NDVI just to compare with out output map.\n",
    "\n",
    "NDWI is similar to NDVI but for identifying water."
   ]
  },
  {
   "cell_type": "code",
   "execution_count": null,
   "metadata": {},
   "outputs": [],
   "source": [
    "with rasterio.open(img_fp) as src:\n",
    "    green_band = src.read(3)\n",
    "    red_band = src.read(4)\n",
    "    nir_band = src.read(8)\n",
    "    \n",
    "ndwi = (green_band.astype(float) - nir_band.astype(float)) / (green_band.astype(float) + nir_band.astype(float))\n",
    "ndvi = (nir_band.astype(float) - red_band.astype(float)) / (red_band.astype(float) + nir_band.astype(float))\n"
   ]
  },
  {
   "cell_type": "markdown",
   "metadata": {},
   "source": [
    "Subset them to our area of interest:"
   ]
  },
  {
   "cell_type": "code",
   "execution_count": null,
   "metadata": {},
   "outputs": [],
   "source": [
    "ndwi = ndwi[150:600, 250:1400]\n",
    "ndvi = ndvi[150:600, 250:1400]"
   ]
  },
  {
   "cell_type": "markdown",
   "metadata": {},
   "source": [
    "Display all four maps:"
   ]
  },
  {
   "cell_type": "code",
   "execution_count": null,
   "metadata": {},
   "outputs": [],
   "source": [
    "fig, axs = plt.subplots(2,2,figsize=(15,7))\n",
    "\n",
    "img_stretched = color_stretch(reshaped_img, [3, 2, 1])\n",
    "axs[0,0].imshow(img_stretched)\n",
    "\n",
    "axs[0,1].imshow(class_prediction, cmap=cmap, interpolation='none')\n",
    "\n",
    "nwdi_plot = axs[1,0].imshow(ndwi, cmap=\"RdYlGn\")\n",
    "axs[1,0].set_title(\"NDWI\")\n",
    "fig.colorbar(nwdi_plot, ax=axs[1,0])\n",
    "\n",
    "ndvi_plot = axs[1,1].imshow(ndvi, cmap=\"RdYlGn\")\n",
    "axs[1,1].set_title(\"NDVI\")\n",
    "fig.colorbar(ndvi_plot, ax=axs[1,1])\n",
    "\n",
    "plt.show()"
   ]
  },
  {
   "cell_type": "markdown",
   "metadata": {},
   "source": [
    "Looks pretty good! Areas that are high on the NDWI ratio are generally classified as water and areas high on NDVI are forest and herbaceous. It does seem like the wetland areas (e.g. the bottom right island complex) aren't being picked up so it might be worth experimenting with other algorithms!"
   ]
  },
  {
   "cell_type": "markdown",
   "metadata": {},
   "source": [
    "Let's take a closer look at the Duke Marine Lab and the tip of the Rachel Carson Reserve."
   ]
  },
  {
   "cell_type": "code",
   "execution_count": null,
   "metadata": {},
   "outputs": [],
   "source": [
    "fig, axs = plt.subplots(1,2,figsize=(15,15))\n",
    "\n",
    "img_stretched = color_stretch(reshaped_img, [3, 2, 1])\n",
    "axs[0].imshow(img_stretched[0:180, 160:350])\n",
    "\n",
    "axs[1].imshow(class_prediction[0:180, 160:350], cmap=cmap, interpolation='none')\n",
    "\n",
    "fig.show()"
   ]
  },
  {
   "cell_type": "markdown",
   "metadata": {},
   "source": [
    "This actually doesn't look half bad! Land cover mapping is a complex problem and one where there are many approaches and tools for improving a map."
   ]
  },
  {
   "cell_type": "markdown",
   "metadata": {},
   "source": [
    "## Testing an Unsupervised Classification Algorithm"
   ]
  },
  {
   "cell_type": "markdown",
   "metadata": {},
   "source": [
    "Let's also try a unsupervised classification algorithm, k-means clustering, in the scikit-learn library ([documentation](https://scikit-learn.org/stable/modules/generated/sklearn.cluster.KMeans.html))\n",
    "\n",
    "K-means ([wikipedia page](https://en.wikipedia.org/wiki/K-means_clustering)) aims to partition n observations into k clusters in which each observation belongs to the cluster with the nearest mean, serving as a prototype of the cluster."
   ]
  },
  {
   "cell_type": "code",
   "execution_count": null,
   "metadata": {},
   "outputs": [],
   "source": [
    "from sklearn.cluster import KMeans\n",
    "\n",
    "bands, rows, cols = img.shape\n",
    "\n",
    "k = 10 # num of clusters\n",
    "\n",
    "kmeans_predictions = KMeans(n_clusters=k, random_state=0).fit(reshaped_img.reshape(-1, 8))\n",
    "\n",
    "kmeans_predictions_2d = kmeans_predictions.labels_.reshape(rows, cols)\n",
    "\n",
    "# Now show the classmap next to the image\n",
    "fig, axs = plt.subplots(1,2,figsize=(15,8))\n",
    "\n",
    "img_stretched = color_stretch(reshaped_img, [3, 2, 1])\n",
    "axs[0].imshow(img_stretched)\n",
    "\n",
    "axs[1].imshow(kmeans_predictions_2d)"
   ]
  },
  {
   "cell_type": "markdown",
   "metadata": {},
   "source": [
    "Wow this looks like it was better able to distinguish some areas like the wetland and submerged sand than our supervised classification approach! But supervised usually does better with some tuning, luckily there are lots of ways to think about improving our supervised method."
   ]
  },
  {
   "cell_type": "markdown",
   "metadata": {},
   "source": [
    "## Wrapup\n",
    "\n",
    "We've seen how we can use `scikit-learn` to implement the Naive Bayes classifier for land cover classification. A couple future directions that immediately follow this tutorial include:\n",
    "\n",
    "+ Extend the lessons learned in the [visualization chapter](chapter_3_visualization.ipynb) to explore the class separability along various dimensions of the data. For example, plot bands against each other and label each point in the scatter plot a different color according to the training data label.\n",
    "+ Add additional features - would using NDVI as well as the spectral bands improve our classification?\n",
    "+ `scikit-learn` includes many machine learning classifiers -- are any of these better than Naive Bayes for our goal? SVM? Nearest Neighbors? Others?\n",
    "+ In this example we only use 8-bit imagery, 16 or 32 bit may contain more information that helps distinguish the classes\n",
    "+ Our training data was created using ultra-high resolution drone imagery. A good deal of error could be coming from the fact that the training samples don't line up exactly with the classes in this imagery. Editing the training shapefile to be better matched to this image could lead to a major improvement.\n",
    "+ This approach only leverages the spectral information in Landsat. What would happen if we looked into some spatial information metrics like incorporating moving window statistics?\n",
    "+ And while more advanced, deep learning methods (like in the next chapter!!!) could lead to major improvements in this classification!\n",
    "\n",
    "### Quantative Accuracy Assessments!\n",
    "We examined our maps for qualitative accuracy but we'll need to perform a proper accuracy assessment based on a probability sample to conclude anything about the accuracy of the entire area. With the information from the accuracy assessment, we will be able not only to tell how good the map is, but more importantly we will be able to come up with statistically defensible unbiased estimates with confidence intervals of the land cover class areas in the map. For more information, see [Olofsson, *et. al.*, 2013](http://www.sciencedirect.com/science/article/pii/S0034425712004191)."
   ]
  },
  {
   "cell_type": "markdown",
   "metadata": {},
   "source": [
    "In the next chapter (link to [webpage](chapter_6_neural_networks.html) or [Notebook](chapter_6_neural_networks.ipynb)) we'll explore how we can classify land cover on a larger scale and more accurately with deep neural networks. We'll also use some more quantative accuracy assessment methods."
   ]
  },
  {
   "cell_type": "code",
   "execution_count": null,
   "metadata": {},
   "outputs": [],
   "source": []
  }
 ],
 "metadata": {
  "kernelspec": {
   "display_name": "Python 3.11.0 64-bit",
   "language": "python",
   "name": "python3"
  },
  "language_info": {
   "codemirror_mode": {
    "name": "ipython",
    "version": 3
   },
   "file_extension": ".py",
   "mimetype": "text/x-python",
   "name": "python",
   "nbconvert_exporter": "python",
   "pygments_lexer": "ipython3",
   "version": "3.11.0"
  },
  "vscode": {
   "interpreter": {
    "hash": "6090159f195111259c09d95d79fb1f2622e138688553073b14c580eb658dcffb"
   }
  }
 },
 "nbformat": 4,
 "nbformat_minor": 4
}
